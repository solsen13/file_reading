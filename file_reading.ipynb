{
 "cells": [
  {
   "cell_type": "markdown",
   "id": "c0e2c21a-eefc-47c6-a83b-9e75133e9d57",
   "metadata": {},
   "source": [
    "### Open\n",
    "* Opens text OR binary\n",
    "    * image and other binary encoding not supported by default in python\n",
    "* use \"mode\" argument to determine arguments\n",
    "    * examples:\n",
    "        * read\n",
    "        * text\n",
    "        * binary\n",
    "* "
   ]
  },
  {
   "cell_type": "markdown",
   "id": "7a580213-e2bd-45f3-8a11-b3eef2b5cf90",
   "metadata": {},
   "source": [
    "### Unicode: UTF 8\n",
    "* ASCII 8 combined in various ways to create different characters.\n",
    "* ASCII originally had only 255 max characters\n",
    "    * not enough for languages such as Japanese"
   ]
  },
  {
   "cell_type": "code",
   "execution_count": 1,
   "id": "1829bb2f-e2e7-4806-9a7d-d50cb7854b74",
   "metadata": {},
   "outputs": [],
   "source": [
    "bulletin_file = open(\"data/mae_bulletin.txt\")"
   ]
  },
  {
   "cell_type": "code",
   "execution_count": 2,
   "id": "e4bc4043-cb1b-4cf1-816a-76e9f4a9928b",
   "metadata": {
    "tags": []
   },
   "outputs": [],
   "source": [
    "bulletin_txt = bulletin_file.readlines()"
   ]
  },
  {
   "cell_type": "code",
   "execution_count": 3,
   "id": "a35bf0e6-0e36-450c-b095-4516cb855971",
   "metadata": {},
   "outputs": [],
   "source": [
    "bulletin_file.close()"
   ]
  },
  {
   "cell_type": "code",
   "execution_count": 4,
   "id": "0f6b0e30-5033-4e3a-832e-6389b88008fb",
   "metadata": {
    "collapsed": true,
    "jupyter": {
     "outputs_hidden": true
    },
    "tags": []
   },
   "outputs": [
    {
     "name": "stdout",
     "output_type": "stream",
     "text": [
      "['MAE 1004. Engineering Drawing and Computer Graphics. 0-3 Credits.\\n', '\\n', 'Introduction to technical drawing, including use of instruments, lettering, geometric construction, sketching, orthographic projection, section view, dimensioning, tolerancing, and pictorial drawing. Introduction to computer graphics, including topics covered in manual drawing and computer-aided drafting.   (Fall and spring).\\n', '\\n', 'MAE 2117. Engineering Computations. 3 Credits.\\n', '\\n', 'Numerical methods for engineering applications. Round-off errors and discretization errors. Methods for solving systems of linear equations, root finding, curve fitting, numerical Fourier transform, and data approximation. Numerical differentiation and integration and numerical solution of differential equations. Computer applications. Prerequisite: MATH 1232. (Fall, Every Year).\\n', '\\n', 'MAE 2124. Linear Systems Analysis for Robotics. 3 Credits.\\n', '\\n', 'Properties of linear systems. Mathematical modeling of dynamic systems. State space, state variables, and their selection. Linearization of non-linear behavior. Matrix functions. Solution of state equations in the time domain and using transformations. System stability and frequency response.\\n', '\\n', 'MAE 2131. Thermodynamics. 3 Credits.\\n', '\\n', 'Fundamentals of equilibrium thermodynamics; Zeroth, First, and Second Laws. Work, heat, internal energy, enthalpy, thermodynamic potential functions; heat transfer mechanisms, phase diagrams, equations of state and property tables, power systems, refrigeration, heat pump systems. Reversible and irreversible processes, Carnot cycle, entropy, exergy. Prerequisite: PHYS 1021.\\n', '\\n', 'MAE 2170. History and Impact of the US Patent System. 3 Credits.\\n', '\\n', 'Economic systems and emergence of the free market; role of the patent system in the industrial development of the United States; constitutional foundations; evolution of the U.S. patent system; landmark litigation; impact on future innovation; international aspects; the likely future of the patent system.\\n', '\\n', 'MAE 3120. Methods of Engineering Experimentation. 0-3 Credits.\\n', '\\n', 'Acquisition and analysis of experimental data. Laws of modeling and simulation. Report formulation and presentation. Basic principles of measuring instruments and sensors. Fundamentals of digital data acquisition and use of computer-based data systems. Strain gages, oscilloscopes, transducers, and computerized data systems. Prerequisite: MAE 2117.\\n', '\\n', 'MAE 3126. Fluid Mechanics I. 0-3 Credits.\\n', '\\n', 'Fluid properties, fluid statics, integral and differential formulations of conservation of mass, momentum, and energy. Bernoulli’s equation. Dimensional analysis and similitude. Inviscid flow. Viscous flow. Experimental and computational methods in fluid mechanics. Prerequisite: APSC 2058. (Fall, Every Year).\\n', '\\n', 'MAE 3128. Biomechanics I. 3 Credits.\\n', '\\n', 'Mechanical analysis of biological systems. Characterization of living tissue. Applications of statics, solid mechanics, kinematics, and elementary dynamics to the human musculoskeletal system. May be taken for graduate credit with departmental approval. Prerequisites: APSC 2057, CE 2220. (Spring, Every Year).\\n', '\\n', 'MAE 3134. Linear System Dynamics. 3 Credits.\\n', '\\n', 'Modeling of linear mechanical, electrical, and fluid systems as transfer functions and in state space. Linearization, discretization. Laplace and z-transforms. Natural frequencies and damping, free vibration, forced vibration. Measurement techniques, parameter estimation, and computer simulation. Time and frequency domain analysis. Prerequisite: APSC 2113; corequisite: APSC 2058.\\n', '\\n', 'MAE 3145. Orbital Mechanics and Spacecraft Dynamics. 3 Credits.\\n', '\\n', 'Coordinate systems and transformations, rocket equation, two-body problem, orbit transfers, orbit perturbations, attitude dynamics and stability of symmetric spacecraft, environmental and control torques. Prerequisite: APSC 2058. (Fall).\\n', '\\n', 'MAE 3155. Aerodynamics. 3 Credits.\\n', '\\n', 'Subsonic and supersonic aerodynamics: potential flow, lift and form drag, viscous effects, compressible flow. Prerequisite: MAE 3126.\\n', '\\n', 'MAE 3162. Aerospace Structures. 3 Credits.\\n', '\\n', 'Basic structural theory of lightweight aerospace structures; analysis of typical monocoque structures; load transfer in stiffened panel structures; virtual work and energy methods of structural analysis, bending of open and closed, thin walled beams, shear and torsion of beams, and structural idealization. Restricted to juniors and seniors; permission of the instructor may be substituted. Prerequisites: APSC 2057 and CE 2220. (Fall, Every Year).\\n', '\\n', 'MAE 3166W. Materials Science and Engineering. 3 Credits.\\n', '\\n', 'Mechanical properties, plastic deformation dislocation theory, yielding, strengthening mechanisms, microstructure and properties, heat treatment of steel, composites, amorphous materials, viscoelastic deformation, creep, fracture, fatigue, fatigue crack propagation. Includes a significant engagement in writing as a form of critical inquiry and scholarly expression to satisfy the WID requirement. Prerequisites: CHEM 1111 and PHYS 1022. (Fall, Every Year).\\n', '\\n', 'MAE 3167W. Mechanics of Materials Lab. 1 Credit.\\n', '\\n', 'Measurement of strains and study of failure resulting from applied forces in ductile, brittle, anisotropic, elastomeric, plastic, and composite materials. Tension, compression, bending, impact, and shear failures. Prerequisites: MAE 3166W.   (Spring).\\n', '\\n', 'MAE 3171. Patent Law for Engineers. 3 Credits.\\n', '\\n', 'Types of patents; international patents; inventorship; prosecution process; basic references for patents; detailed structure of a patent; patentability requirements; reexamination and reissue; litigation; infringement and invalidity; copyrights, trademarks, and trade dress. May be taken for graduate credit with approval of department.\\n', '\\n', 'MAE 3184. Robotics Lab. 1 Credit.\\n', '\\n', 'Forward and inverse kinematics modeling of robots, control design, trajectory planning, and force rendering. Corequisite: MAE 3197.\\n', '\\n', 'MAE 3187. Heat Transfer. 3 Credits.\\n', '\\n', 'Steady- and unsteady-state heat conduction problems. Analytical and numerical solution methods. Convective heat transfer, boundary-layer approach, analogy between heat and momentum transfer. Thermal radiation; fundamental concepts and laws. Heat-exchanger design. Prerequisite: MAE 3126, MAE 2131.\\n', '\\n', 'MAE 3190. Analysis and Synthesis of Mechanisms. 3 Credits.\\n', '\\n', 'Kinematics and dynamics of mechanisms. Displacements, velocities, and accelerations in linkage, cam, and gear systems by analytical, graphical, and computer methods. Synthesis of linkages to meet prescribed performance requirements. Prerequisite: APSC 2058.  (Fall).\\n', '\\n', 'MAE 3191. Mechanical Design of Machine Elements. 3 Credits.\\n', '\\n', 'Strength of materials in a design context; stresses and deflections in engineering structures; theories of failure; design of mechanical components, such as fasteners, shafts, and springs; the use of computers in mechanical engineering design. Prerequisite: CE 2220.   (Fall, Every Year).\\n', '\\n', 'MAE 3192. Manufacturing Processes and Systems. 3 Credits.\\n', '\\n', 'Introduction to manufacturing techniques for metals, polymers, ceramics, and composites. Relationships between properties of materials and techniques for processing them. Process selection, design, control, and integration. Computer-integrated manufacturing, robotics and assembly automation. Prerequisite or concurrent registration: MAE 1004.\\n', '\\n', 'MAE 3193. Mechanical Systems Design. 3 Credits.\\n', '\\n', 'Creative engineering design, problem definition, and concept generation; design of mechanisms and mechanical systems; safety, reliability, manufacturability, material selections, cost, and integration in the design process; finite element analysis of mechanical systems, computer-aided design, and optimization. Prerequisite: MAE 3191.   (Spring, Every Year).\\n', '\\n', 'MAE 3195. Computer-Aided Engineering of Mechanical Systems. 3 Credits.\\n', '\\n', 'Presentation of the major elements of computer-aided engineering systems: interactive computer graphics, finite element analysis, and design optimization. Consideration of economics, safety, and reliability factors. Prerequisite: MAE 4193; concurrent registration: MAE 3196.\\n', '\\n', 'MAE 3196. Computer-Aided Engineering Laboratory. 1 Credit.\\n', '\\n', 'Instruction and hands-on applications of computer-aided engineering systems to the design, analysis, and optimization of mechanical engineering components and systems. Concurrent registration: MAE 3195.\\n', '\\n', 'MAE 3197. Robotic Systems Design and Applications. 3 Credits.\\n', '\\n', 'Modeling and analysis of robot designs. Kinematics, statics, and dynamics of linkages. Design and selection of mechanical structures, actuators, transmissions, and sensors. Design of robotic control systems. Relevant computer hardware and software. Industrial applications and limitations of robot systems. Lab experiments. Same as ECE 4730. Prerequisite: MAE 3134.\\n', '\\n', 'MAE 4129. Biomechanics II. 3 Credits.\\n', '\\n', 'Mechanical analysis of physiological fluid dynamics. Application of fluid flow analysis techniques to cardiovascular, pulmonary, respiratory, and phonatory flows. Introduction to biomedical devices that manipulate physiological flows. May be taken for graduate credit with approval of department. Prerequisite: MAE 3128.\\n', '\\n', 'MAE 4149. Thermal Systems Design. 3 Credits.\\n', '\\n', 'Completion of a thermal systems design project that requires integration of engineering science, economics, reliability, safety, ethics, professional responsibility, and social considerations. Development and use of design methodology, optimization, feasibility considerations, detailed system descriptions, and presentation of results. Prerequisite: MAE 3187.\\n', '\\n', 'MAE 4157. Aerodynamics Laboratory. 1 Credit.\\n', '\\n', 'Subsonic and supersonic wind tunnel experiments and simulations. Prerequisite: MAE 3155. (Fall).\\n', '\\n', 'MAE 4163. Airplane Performance. 3 Credits.\\n', '\\n', 'Lift and drag estimation methods. Airplane performance measures, such as range and endurance, turning flight, specific excess power and acceleration, takeoff and landing performance. Longitudinal and lateral-direction static and dynamic stability. Control surface effectiveness. Prerequisites: MAE 3134. (Fall).\\n', '\\n', 'MAE 4168. Intro to Biomaterials. 3 Credits.\\n', '\\n', 'Fundamentals of materials science and engineering applied to artificial materials in the human body. Topics include biocompatibility, techniques to minimize corrosion or other degradation of implant materials, and the use of artificial materials in various tissues and organs. Prerequisite: Approval of department. Course not open to MAE students.\\n', '\\n', 'MAE 4172. Engineering Design and the Patent System. 3 Credits.\\n', '\\n', 'Design experience in group projects involving following precisely the teachings of a licensed patent; or avoiding infringement of a provided patent while offering a competitive alternative; or evaluating a provided patent in light of prior art or by attempting to design a competitive product. May be taken for graduate credit with approval of department. Prerequisite: MAE 3171 and senior status.\\n', '\\n', 'MAE 4182. Electromechanical Control System Design. 3 Credits.\\n', '\\n', 'Application of control theory to the design of electromechanical systems. Transducers, valves, and other control components. Mathematical models of open- and closed-loop electromechanical systems. Root locus and frequency response methods; application to the synthesis of feedback systems by both manual and computer-aided techniques. Prerequisite: MAE 2117, MAE 3134.\\n', '\\n', 'MAE 4183. Controls Lab. 1 Credit.\\n', '\\n', 'Modeling, control design, simulation, implementation, tuning, and operation of a control system. Corequisite: MAE 4182.\\n', '\\n', 'MAE 4193. Engineering Systems Design. 3 Credits.\\n', '\\n', 'Creative engineering design, problem definition, and concept generation. Design of journal and roller element bearings, fasteners and permanent joints, and springs. Design project incorporating design selection, and optimization. Project presentation using graphical and computer resources. Prerequisite: MAE 3191. (Fall, Every Year).\\n', '\\n', 'MAE 4194. Mechatronics Design. 3 Credits.\\n', '\\n', 'Data acquisition and digital signal processing. Sensors and their characteristics—displacement, position/velocity, force/pressure, piezoelectric. Actuators—mechanical, electrical, pneumatic, hydraulic. Modeling and simulation of dynamic systems. Mechanism design. Digital control systems. Microprocessors, digital logic/circuits, motor drives. Lab experiments. Prerequisite: MAE 4182.\\n', '\\n', 'MAE 4195. Mechatronics Lab. 1 Credit.\\n', '\\n', 'Corequisite: MAE 4194.\\n', '\\n', 'MAE 4198. Research. 1-3 Credits.\\n', '\\n', 'Applied research and experimentation projects, as arranged. Prerequisite: junior or senior status.\\n', '\\n', 'MAE 4199. Student Design Project. 1-3 Credits.\\n', '\\n', 'Student projects involving extensive design of various mechanical engineering systems. May be taken for graduate credit with the expectation that additional work will be required. Prerequisites: seniors.   (Fall and spring, Every Year).\\n', '\\n', 'MAE 6194. Mechatronics Design. 3 Credits.\\n', '\\n', 'Review of data acquisition and digital signal processing; mathematical models, design, and applications of sensors and actuators in mechatronic systems; theory and applications of mechanism design; microprocessor-based design integration, motor drives, and digital logic/circuits. Corequisite: MAE 6195. Restricted to graduate students. (Same as MAE 4194)   (Spring, Every Year).\\n', '\\n', 'MAE 6195. Mechatronics Lab. 0 Credits.\\n', '\\n', 'Designing and building a mechatronic system based around a programmable microcontroller; using sensors and actuators to create devices capable of sensing their surrounding environment and reacting to stimuli from that environment. Corequisite: MAE 6194. Restricted to graduate students. (Same as MAE 4195)   (Spring, Every Year).\\n', '\\n', 'MAE 6201. Intro to Manufacturing. 3 Credits.\\n', '\\n', 'Fundamentals of modern manufacturing. Processes for manufacturing mechanical and electronic components from metals, polymers, ceramics, and silicon. Manufacturing systems, CAD, robotics, and design for assembly. Current capabilities, technological needs, and competitiveness. Examples from high-tech industries. Prerequisite: approval of department.\\n', '\\n', 'MAE 6203. Adv Experimentation Tech. 3 Credits.\\n', '\\n', 'Sensors; measurement of displacement, temperature, pressure and velocity. Optical methods. Signal conditioning. Computer data acquisition. Uncertainty analysis. Case studies of instrumentation systems such as hot-wire anemometers, laser-doppler anemometers, shlieren/shadowgraph and interferometers. Laboratory projects.    (As arranged).\\n', '\\n', 'MAE 6204. Tissue Engineering. 3 Credits.\\n', '\\n', 'No course description.\\n', '\\n', 'MAE 6207. Theory of Elasticity I. 3 Credits.\\n', '\\n', 'Introduction to Cartesian tensors; deformation, stress, constitutive relations for linear elasticity; formulation of boundary value problems, variational principles, torsion and bending of prismatial rods, plane problems. Prerequisite: approval of department. Same as CE 6207.\\n', '\\n', 'MAE 6210. Continuum Mechanics. 3 Credits.\\n', '\\n', 'Tensor analysis; fundamental concepts of continuum mechanics; kinematics of continuum; derivation of balance laws of mass, linear momentum, angular momentum, energy and entropy; axioms of constitutive theory; formulation of constitutive theories; Onsager’s principle; objectivity; representation theorem for isotropic functions; plasticity, including concepts of internal variables, yield surface, return mapping algorithm. Departmental approval required. (Fall, Every Year).\\n', '\\n', 'MAE 6220. Applied Computational Fluid Dynamics. 3 Credits.\\n', '\\n', 'Basic principles of fluid dynamics and aerodynamics. Finite difference and finite volume methods. Fluid flow and heat transfer analysis of thermo-fluid mechanical systems. Computational aerodynamics codes. Individual hands-on experience with a commercial CFD code such as FLUENT. Prerequisite: approval of department.\\n', '\\n', 'MAE 6221. Fluid Mechanics. 3 Credits.\\n', '\\n', 'Continuum, kinematics of fluids; stress and strain rate tensors; fundamental equations of viscous compressible flows. Irrotational flows; sources, sinks, doublets, and vortices. Laminar flow of viscous incompressible fluids; boundary-layer concept. Prerequisite: approval of department.\\n', '\\n', 'MAE 6222. Applied Aerodynamics. 3 Credits.\\n', '\\n', 'Introduction to practical and computational methods for solving two-dimensional and three-dimensional aerodynamics problems. Linear methods, nonlinear potential methods, coordinate transforms, and boundary-layer methods. Prerequisite: MAE 6221, MAE 6286.\\n', '\\n', 'MAE 6223. Turbomachinery. 3 Credits.\\n', '\\n', 'Turbine, compressor, and pump types and uses; dimensional analysis of turbomachines; cycle analysis of gas and steam turbines; energy interchange in fluid machinery; design, characteristics, and performance of turbines, compressors, and pumps; comparison of types of turbines, compressors, and pumps. Prerequisite: MAE 6221.\\n', '\\n', 'MAE 6224. Viscous Flow. 3 Credits.\\n', '\\n', 'Exact solutions of Navier–Stokes equations; the laminar boundary-layer theory. Reynolds stresses and turbulence; internal, boundary-layer, and mixing flows. Applications to heat and mass transfer and to reacting flows. Prerequisite: APSC 6213, MAE 6221, .\\n', '\\n', 'MAE 6225. Computational Fluid Dynamics. 3 Credits.\\n', '\\n', 'Theory of discrete methods for solving the governing equations of fluid dynamics. Potential flow, Euler equations, Navier-Stokes equations. Emphasis on algorithm development appropriate to modern supercomputers. Prerequisite: MAE 6221, MAE 6286.\\n', '\\n', 'MAE 6226. Aero/Hydrodynamics. 3 Credits.\\n', '\\n', 'Inviscid flows in two and three dimensions and irrotational flow theory; conformal mapping and applications. Helmoltz theorems and vorticity dynamics. Applications such as airfoil theory, finite wing theory, panel methods, instabilities, free surface flow. Prerequisite: MAE 6221 .\\n', '\\n', 'MAE 6227. Aeroelasticity. 3 Credits.\\n', '\\n', 'Static and dynamic structural deformations; static aeroelasticity (structural deformation, divergence, control effectiveness, and reversal); dynamic aeroelasticity (flutter, response to gusts and turbulence); unsteady aerodynamics for 2-D wings; strip theory for 3-D lifting surfaces; piston and Newtonian-flow theories. Prerequisite: MAE 6221, MAE 6257.\\n', '\\n', 'MAE 6228. Compressible Flow. 3 Credits.\\n', '\\n', 'Thermodynamics and equations of compressible inviscid flow. One-dimensional flow. Isentropic flow. Normal and oblique shock waves. Quasi-one-dimensional flow. Unsteady one-dimensional and steady two-dimensional flow. Introduction to transonic flow. Prerequisite: APSC 6213, MAE 6221 .\\n', '\\n', 'MAE 6229. Propulsion. 3 Credits.\\n', '\\n', 'Basic concepts of propulsion: energy transformations in propulsive flows, gas dynamics of combustion. Thermal and propulsive efficiencies. Cycle and engine component analysis. Intake, nozzle performance. Drag and thrust generation. Augmentation. Propellers, turbojets, turbofans, ramjets, and rockets. Prerequisite: Graduate Standing or MAE 2131 and MAE 3126. (Spring).\\n', '\\n', 'MAE 6230. Space Propulsion. 3 Credits.\\n', '\\n', 'Advanced chemical propulsion: dynamic combustion and instabilities in solid propellants. Injection, atomization, mixing in liquid propellant engine performance. Plasma propulsion: electrostatic, electromagnetic, and electrothermal instabilities (laser and microwave). Nuclear propulsion. Prerequisite: MAE 6229.\\n', '\\n', 'MAE 6231. Structure and Transformations in Materials. 3 Credits.\\n', '\\n', 'Structure of crystals, crystal binding, crystal defects, dislocations, solid solutions, phases, diffusion, phase transformations, deformation twinning, and martensite. Prerequisite: APSC 2130.\\n', '\\n', 'MAE 6232. Fracture Mechanics. 3 Credits.\\n', '\\n', 'Concepts, history, and recent developments of fracture mechanics. Singularity at the crack tip; solutions around crack tip; stress intensity factors; energy release rate; J-integral; direction of crack extension; Plasticity and slow crack growth; dynamic crack propagation; molecular dynamics simulation of fracture. Prerequisite: approval of department.\\n', '\\n', 'MAE 6233. Mechanics of Composite Materials. 3 Credits.\\n', '\\n', 'Stress-strain relationship for orthotropic materials, invariant properties of an orthotropic lamina, biaxial strength theory for an orthotropic lamina. Mechanics of materials approach to stiffness, elasticity approach to stiffness. Classical lamination theory, strength of laminates. Statistical theory of fatigue damage. Same as CE 6209.  Prerequisite: approval of department.\\n', '\\n', 'MAE 6234. Composite Materials. 3 Credits.\\n', '\\n', 'Principles of composites and composite reinforcement. Micromechanics and failure, interface reactions in various composites, reinforcing materials. Structure of composites: fiber-reinforced polymers, filler-reinforced polymers, fiber-reinforced metals, directionally solidified alloys, dispersion-strengthened metals. Prerequisite: approval of department.\\n', '\\n', 'MAE 6235. Deformation and Failure of Materials. 3 Credits.\\n', '\\n', 'Elastic and plastic deformation, yield, dislocation theory, strengthening mechanisms, creep, polymers, fracture, transition temperature, microstructure, fatigue.    (Spring, odd years).\\n', '\\n', 'MAE 6237. Applied Electrochemistry. 3 Credits.\\n', '\\n', 'Charged interfaces, electrochemical cells, corrosion thermodynamics, electrode kinetics, general corrosion, crevice corrosion, pitting, stress-corrosion cracking, corrosion protection, batteries and fuel cells, energy storage. May include current and potential distribution in electrochemical cells and scaling effects in modeling. Prerequisite: approval of department.\\n', '\\n', 'MAE 6238. Biomaterials. 3 Credits.\\n', '\\n', 'Applications of materials science and engineering to artificial materials in the human body with the objective of detailed understanding of synthetic materials and biopolymers. Biocompatibility and its consequences on tissue–implant interfaces. Design and development of new implant materials, drug delivery systems, and biosensors. Prerequisite: MAE 3166 or MAE 4168.\\n', '\\n', 'MAE 6239. Computational Nanosciences. 3 Credits.\\n', '\\n', 'Introduction to surface force measurements in nanosciences; continuum contact mechanics in nanoscience research; intermolecular forces; empirical potentials for transition metals; surface forces in liquids; large-scale atomic/molecular massively parallel simulator; force field development from quantum mechanical density–functional theory for organic/metal molecular systems. Prerequisite: approval of department.\\n', '\\n', 'MAE 6240. Kinematic Synthesis. 3 Credits.\\n', '\\n', 'Techniques for the analysis and synthesis of function, path, and motion generating mechanisms. Methods for the dimensional design of mechanisms. Computer-aided techniques for the optimal design of planar linkages. Review of recent developments and current research. Term project. Prerequisite: MAE 3190 .\\n', '\\n', 'MAE 6241. Computer Models of Physical and Engineering Systems. 3 Credits.\\n', '\\n', 'Reduction of physical and engineering systems to simplified physical and mathematical models. Manipulation of models using C/C programming. Numerical algorithms for optimization, graph identification, mini-sum arithmetic, and searching. Styles of problem solving. Prerequisite: MAE 2117.\\n', '\\n', 'MAE 6242. Advanced Mechanisms. 3 Credits.\\n', '\\n', 'Emphasis on spatial kinematics. Analysis and synthesis of mechanisms. Analytical techniques using matrices, dual numbers, quaternion algebra, finite and instantaneous screws, theory of envelopes. Applications to design of linkages, cams, gears. Use of digital computers in mechanism analysis and design. (Spring, even years).\\n', '\\n', 'MAE 6243. Advanced Mechanical Engineering Design. 3 Credits.\\n', '\\n', 'Design of mechanical engineering components and systems emphasizing computer-aided engineering (CAE), including interactive computer graphics, finite element analysis, and design optimization. Creation of a complete design on an engineering workstation. Prerequisite: approval of department.\\n', '\\n', 'MAE 6244. Computer-Integrated Engineering Design. 3 Credits.\\n', '\\n', 'Design of engineering components and systems on engineering workstations using I-DEAS. Interactive computer graphics, finite element analysis, computer-based design optimization, and other relevant computer-based tools. Students apply design concepts in a computer-aided engineering environment to a selected project. Prerequisite: approval of department.\\n', '\\n', 'MAE 6245. Robotic Systems. 3 Credits.\\n', '\\n', 'Classification, features, and applications of industrial robots. Spatial descriptions and transformations, forward and inverse kinematics. Jacobian matrix, velocities and static forces, manipulator dynamics and controls. Robot actuators, transmissions, sensors, end effectors, and programming. Prerequisite: MAE 4182 .\\n', '\\n', 'MAE 6246. Electromechanical Control Systems. 3 Credits.\\n', '\\n', 'State–space representations of dynamic systems; dynamics of linear systems; controllability and observability; linear observers; compensator design by separation principle; linear–quadratic optimal control; Riccati equations; random processes; Kalman filter; applications of optimal stochastic control theory to robotics and earthquake engineering. Prerequisite: approval of department.\\n', '\\n', 'MAE 6247. Aircraft Design I. 3 Credits.\\n', '\\n', 'Conceptual design methods used in response to prescribed mission and performance requirements, alternate configuration concepts. Configuration general arrangement and empennage sizing. Estimation of aircraft size, weight, and balance; lift, thrust and drag; system level tradeoff and sensitivity studies. Prerequisite: Graduate Standing or MAE 4163. (Spring).\\n', '\\n', 'MAE 6249. Spacecraft Design. 3 Credits.\\n', '\\n', 'Computer-aided design of spacecraft and satellites to meet specific mission requirements. Environment, propulsion, structure, heat transfer, orbital mechanics, control considerations. Use of modern computer codes for design studies. Prerequisite: MAE 3145 or graduate student standing. (Spring, Every Year).\\n', '\\n', 'MAE 6251. Computer-Integrated Manufacturing. 3 Credits.\\n', '\\n', 'Automation techniques for processing metals, polymers, and composites. Use of sensing and process modeling in process control. Numerical control and robot applications and limitations. Integration, scheduling, and tool management in the computer-integrated factory. Quality control. Social and economic considerations in CIM. Prerequisite: MAE 3192 .\\n', '\\n', 'MAE 6252. Projects in Computer-Integrated Design and Manufacturing. 3 Credits.\\n', '\\n', 'Applications of the concepts of computer-integrated manufacturing to group projects, culminating in written and oral presentations. Robot programming, vision-guided assembly, force sensing, fixturing, and end-effector design for practical applications. Factory simulation, part scheduling, and NC program-verification algorithms. Prerequisite: MAE 6251.\\n', '\\n', 'MAE 6253. Aircraft Structures. 3 Credits.\\n', '\\n', 'Statics of thin-walled beams and panels, force interplay between stiffeners and skin in the analysis and design of stiffened thin-walled structures. Strength and stiffness of locally buckled stiffened structures. Design considerations. Critical evaluation of various design procedures. Prerequisite: approval of department.\\n', '\\n', 'MAE 6254. Applied Nonlinear Control. 3 Credits.\\n', '\\n', 'Dynamic characteristics of nonlinear systems. State stability and input-output stability. Lyapunov stability theory and invariance principle. Nonlinear control systems, including feedback linearization, back-stepping, sliding mode control, and passivity-based design. Applications to robotics, aircraft, and spacecraft control systems. Geometric controls and hybrid systems. Prerequisite: approval of department.\\n', '\\n', 'MAE 6255. Plasma Engineering in Aerospace and Nanotechnology. 3 Credits.\\n', '\\n', 'Plasma fundamentals, electromagnetic waves in plasma, plasma–wall interactions, modeling and experimental techniques in plasmas, electrical discharge, plasma propulsion, plasma-based nanotechnology. Prerequisite: MAE 3126.\\n', '\\n', 'MAE 6257. Theory of Vibration. 3 Credits.\\n', '\\n', 'Damped and undamped natural vibration, response of single- and multiple-degrees-of-freedom systems to steady-state and transient excitations, modal analysis, nonproportional damping and complex modes, variation formulation of equations of motion, discretization of structural systems for vibrational analysis. Prerequisite: approval of department.\\n', '\\n', 'MAE 6258. Advanced Vibration Analysis and Control. 3 Credits.\\n', '\\n', 'Passive and active vibration control of discrete and continuous systems, dynamic vibration absorbers, random vibrations, failure analysis, modal analysis, nonlinear vibrations. Prerequisites: MAE 3134 and MAE 4182 or graduate standing.   (Spring).\\n', '\\n', 'MAE 6260. Nanomechanics. 3 Credits.\\n', '\\n', 'Introduction to crystallography; interatomic potentials; phonon dispersion relations; molecular dynamics simulation; Nose–Hoover thermostat; coarse grained non-equilibrium molecular dynamics; multiple length/time scale theory of multi-physics; microcontinuum field theories; applications to nano materials/structures. Prerequisite: approval of department.\\n', '\\n', 'MAE 6261. Air Pollution. 3 Credits.\\n', '\\n', 'Introductory course on the generation, monitoring, and control of air pollution. Atmospheric pollutants; current levels and health problems. Combustion chemistry and mixing. Photochemical processes; smog and measurements. Atmospheric dispersion; inversion and acid rain. Prerequisite: approval of department.\\n', '\\n', 'MAE 6262. Energy Systems Analysis I. 3 Credits.\\n', '\\n', 'Analysis of energy resources and conversion devices. Statistical data analysis, forecasting, I/O, and net energy analyses, mathematical modeling. Prerequisite: approval of department.\\n', '\\n', 'MAE 6263. Advances in Energy Engineering. 3 Credits.\\n', '\\n', 'Review of thermodynamics, heat transfer, fluid dynamics, and materials technology used in the energy industries. New energy-efficient technologies in transportation and buildings; renewable energy (wind, solar, and biomass). Climate change and sustainability issues, such as carbon capture, cap and trade, carbon sequestration.\\n', '\\n', 'MAE 6270. Theoretical Acoustics. 3 Credits.\\n', '\\n', 'Basic acoustic theory in stationary and uniformly moving media; waves in infinite space; sound transmission through interfaces; sound radiation from simple solid boundaries, source and dipole fields; propagation in ducts and enclosures; elements of classical absorption of sound. Prerequisite: APSC 6213, MAE 6221.\\n', '\\n', 'MAE 6271. Time Series Analysis. 3 Credits.\\n', '\\n', 'Harmonic analysis of random signals; auto- and cross-correlations and spectra; coherence; modern techniques for spectral estimation, including fast Fourier transform, maximum entropy, and maximum likelihood; bias and variability; randomly sampled data; digital filtering; applications. Prerequisite: approval of department.\\n', '\\n', 'MAE 6274. Dynamics/Cntrl of Spacecraft. 3 Credits.\\n', '\\n', 'Fundamentals of satellite attitude dynamics and passive stabilization. Spacecraft attitude representation, rotational kinematics and kinetics. External torques. Dynamics of gyroscopes. Gravity gradient stabilization. Effect of internal energy dissipation on stability of spinning bodies and methods of despin. Dual spin satellites. Prerequisite: approval of department.\\n', '\\n', 'MAE 6275. Dynamics and Control of Aircraft. 3 Credits.\\n', '\\n', 'Derivation of equations of motion, Euler transformations and direction cosines, stability derivatives and linearization of equations of motion, stability of linear systems with application to longitudinal and lateral dynamics, Laplace transform techniques, and frequency-response analysis. Departmental approval required prior to registration. (Fall, even years).\\n', '\\n', 'MAE 6276. Mechanics of Space Flight. 3 Credits.\\n', '\\n', 'Coordinate and time systems. Newton’s laws; 2-, 3-, and n-body problems, Lagrange points, gravity-assisted trajectories, variation of parameters and orbit perturbations, non-central gravity effects, drag, sun-synchronous, and formation orbits. Numerical applications using MatLab. Prerequisite: approval of department.\\n', '\\n', 'MAE 6277. Spacecraft Attitude Control. 3 Credits.\\n', '\\n', 'Control of spinning and three-axis stabilized spacecraft. Elements of linear control theory for single-input, single-output systems and basic feedback control laws. Momentum management and actuator desaturation. Sensors for attitude determination. Application of modern control for multi-input, multi-output systems. Control system simulations using MatLab.    (As arranged).\\n', '\\n', 'MAE 6280. Thermodynamics. 3 Credits.\\n', '\\n', 'Review of First and Second Laws of Thermodynamics and combining the two through exergy; entropy generation minimization and applications. Single phase systems, exergy analyses, multiphase systems, phase diagrams and the corresponding states principle. Prerequisite: approval of department.\\n', '\\n', 'MAE 6281. Advanced Thermodynamics. 3 Credits.\\n', '\\n', 'Development of classical and quantum statistical mechanics, including Maxwell–Boltzman distributions and microscopic origins of entropy and other thermodynamic variables. Partition functions and micro- and grand-canonical ensembles; Fermi–Dirac, Bose–Einstein, and intermediate statistics. Einstein and Debye models of solids. Prerequisite: MAE 6280 .\\n', '\\n', 'MAE 6282. Convective Heat/Mass Transfer. 3 Credits.\\n', '\\n', 'Heat and momentum transfer in laminar and turbulent flow. The laminar boundary-layer solution. Similarity and nondimensional parameters. Mass-momentum heat transfer analogy. Convective heat transfer at high velocity. Stability, transition, and turbulence. Free convection. Prerequisite: MAE 6221 .\\n', '\\n', 'MAE 6283. Radiative Heat Transfer. 3 Credits.\\n', '\\n', 'Basic concepts of heat transfer by thermal radiation starting from Planck’s equation for blackbody radiation. Realistic engineering problems are addressed, some involving radiative heat transfer with a variety of surfaces, geometries, and enclosures. Radiative heat flow combined with conduction and convection boundaries. Prerequisite: approval of department.\\n', '\\n', 'MAE 6284. Combustion. 3 Credits.\\n', '\\n', 'Basic combustion phenomena. Rate processes and chemical kinetics. Chain reaction theory. Detonation, deflagration, diffusion flames, heterogeneous combustion. Experimental measurements. Impact of pollution regulations and alternate fuels. Prerequisite: approval of department.\\n', '\\n', 'MAE 6286. Numerical Solution Techniques in Mechanica land Aerospace Engineering. 3 Credits.\\n', '\\n', 'Development of finite difference and finite element techniques for solving elliptic, parabolic, and hyperbolic partial differential equations. Prerequisite: APSC 6213.\\n', '\\n', 'MAE 6287. Applied Finite Element Methods. 3 Credits.\\n', '\\n', 'Review of theory of elasticity. Basic aspects of theory and application of finite element methods. Utilization of MSC/NASTRAN for static, dynamic, linear, and nonlinear analyses of problems in mechanical, aeronautical, and astronautical engineering. Course emphasizes individual hands-on experience with the MSC/NASTRAN code. Prerequisite: approval of department.\\n', '\\n', 'MAE 6288. Advanced Finite Element Analysis. 3 Credits.\\n', '\\n', 'Review of variational formulation of the finite element method. Finite element analysis of large-strain thermomechanics. Applications to static and dynamic problems in finite elasticity, Fung elasticity (biomechanics), nonlocal theory, active stress in living biological tissues, biological growth, and large-strain plasticity. Recent developments in finite element methods. Same as CE 8330. Prerequisite: approval of department.\\n', '\\n', 'MAE 6290. Special Topics in Materials Science. 3 Credits.\\n', '\\n', 'Selected subjects of current interest. Arranged by consultation between department faculty and students. Typical topics include experimental methods in materials science and nondestructive inspection of materials. Prerequisite: approval of department.\\n', '\\n', 'MAE 6291. Special Topics in Mechanical Engineering. 3 Credits.\\n', '\\n', 'Selected subjects of current interest. Arranged by consultation between department faculty and students. Typical topics include tribology, power systems design, solar heating systems, HVAC, and plasticity theory. Prerequisite: approval of department.\\n', '\\n', 'MAE 6292. Special Topics in Aerospace Engineering. 3 Credits.\\n', '\\n', 'Selected subjects of current interest. Arranged by consultation between department faculty and students. Typical topics include environmental noise control, aeroacoustics, hypersonic flow, and flight vehicle aerodynamics. May be repeated for credit. Prerequisite: approval of department.\\n', '\\n', 'MAE 6298. Research. 1-6 Credits.\\n', '\\n', 'Basic research projects as arranged. May be repeated for credit.\\n', '\\n', 'MAE 6998. MS Thesis Research. 3 Credits.\\n', '\\n', 'No course description.\\n', '\\n', 'MAE 6999. MS Thesis Research. 3 Credits.\\n', '\\n', 'No course description.\\n', '\\n', 'MAE 8350. Advanced Topics in Materials Science. 3 Credits.\\n', '\\n', 'Topics such as surface science that are of current research interest. Selected after consultation between department faculty and students. Prerequisite: approval of department.\\n', '\\n', 'MAE 8351. Advanced Topics in Mechanical Engineering. 3 Credits.\\n', '\\n', 'Topics such as advanced analytical mechanics, advanced mechanics of continua, and advanced theory of elasticity that are of current research interest. Selected after consultation between department faculty and students. Prerequisite: approval of department.\\n', '\\n', 'MAE 8352. Advanced Topics in Aerospace Engineering. 3 Credits.\\n', '\\n', 'Topics such as nonsteady flow, physical gas dynamics, turbulence, and nonlinear wave propagation that are of current research interest. Selected after consultation between department faculty and students. Prerequisite: approval of department.\\n', '\\n', 'MAE 8998. Advanced Reading & Research. 1-12 Credits.\\n', '\\n', 'Limited to students preparing for the Doctor of Philosophy qualifying examination. May be repeated for credit.\\n', '\\n', 'MAE 8999. Dissertation Research. 1-12 Credits.\\n', '\\n', 'Limited to Doctor of Philosophy candidates. May be repeated for credit.\\n']\n"
     ]
    }
   ],
   "source": [
    "print(bulletin_txt) #formats"
   ]
  },
  {
   "cell_type": "code",
   "execution_count": 5,
   "id": "056fb127-9da3-440c-a887-98138ff2d9bc",
   "metadata": {},
   "outputs": [
    {
     "data": {
      "text/plain": [
       "list"
      ]
     },
     "execution_count": 5,
     "metadata": {},
     "output_type": "execute_result"
    }
   ],
   "source": [
    "type(bulletin_txt)"
   ]
  },
  {
   "cell_type": "code",
   "execution_count": 6,
   "id": "bb3b5359-b5f2-496f-83cb-ff1d660bdd54",
   "metadata": {},
   "outputs": [
    {
     "data": {
      "text/plain": [
       "431"
      ]
     },
     "execution_count": 6,
     "metadata": {},
     "output_type": "execute_result"
    }
   ],
   "source": [
    "len(bulletin_txt)"
   ]
  },
  {
   "cell_type": "code",
   "execution_count": 7,
   "id": "fee42ccc-bc57-488c-b6d5-b9db469a8757",
   "metadata": {
    "tags": []
   },
   "outputs": [],
   "source": [
    "class_info = []\n",
    "description = []\n",
    "\n",
    "for line in bulletin_txt:\n",
    "    if line.startswith(\"MAE\"):\n",
    "        class_info.append(line)\n",
    "    elif line.startswith(\"\\n\"):\n",
    "        pass\n",
    "    else:\n",
    "        description.append(line)"
   ]
  },
  {
   "cell_type": "code",
   "execution_count": 8,
   "id": "4c53d13d-b042-473c-b8c3-98b504e1875b",
   "metadata": {
    "collapsed": true,
    "jupyter": {
     "outputs_hidden": true
    },
    "tags": []
   },
   "outputs": [
    {
     "name": "stdout",
     "output_type": "stream",
     "text": [
      "Class info\n",
      "\n",
      "['MAE 1004. Engineering Drawing and Computer Graphics. 0-3 Credits.\\n', 'MAE 2117. Engineering Computations. 3 Credits.\\n', 'MAE 2124. Linear Systems Analysis for Robotics. 3 Credits.\\n', 'MAE 2131. Thermodynamics. 3 Credits.\\n', 'MAE 2170. History and Impact of the US Patent System. 3 Credits.\\n', 'MAE 3120. Methods of Engineering Experimentation. 0-3 Credits.\\n', 'MAE 3126. Fluid Mechanics I. 0-3 Credits.\\n', 'MAE 3128. Biomechanics I. 3 Credits.\\n', 'MAE 3134. Linear System Dynamics. 3 Credits.\\n', 'MAE 3145. Orbital Mechanics and Spacecraft Dynamics. 3 Credits.\\n', 'MAE 3155. Aerodynamics. 3 Credits.\\n', 'MAE 3162. Aerospace Structures. 3 Credits.\\n', 'MAE 3166W. Materials Science and Engineering. 3 Credits.\\n', 'MAE 3167W. Mechanics of Materials Lab. 1 Credit.\\n', 'MAE 3171. Patent Law for Engineers. 3 Credits.\\n', 'MAE 3184. Robotics Lab. 1 Credit.\\n', 'MAE 3187. Heat Transfer. 3 Credits.\\n', 'MAE 3190. Analysis and Synthesis of Mechanisms. 3 Credits.\\n', 'MAE 3191. Mechanical Design of Machine Elements. 3 Credits.\\n', 'MAE 3192. Manufacturing Processes and Systems. 3 Credits.\\n', 'MAE 3193. Mechanical Systems Design. 3 Credits.\\n', 'MAE 3195. Computer-Aided Engineering of Mechanical Systems. 3 Credits.\\n', 'MAE 3196. Computer-Aided Engineering Laboratory. 1 Credit.\\n', 'MAE 3197. Robotic Systems Design and Applications. 3 Credits.\\n', 'MAE 4129. Biomechanics II. 3 Credits.\\n', 'MAE 4149. Thermal Systems Design. 3 Credits.\\n', 'MAE 4157. Aerodynamics Laboratory. 1 Credit.\\n', 'MAE 4163. Airplane Performance. 3 Credits.\\n', 'MAE 4168. Intro to Biomaterials. 3 Credits.\\n', 'MAE 4172. Engineering Design and the Patent System. 3 Credits.\\n', 'MAE 4182. Electromechanical Control System Design. 3 Credits.\\n', 'MAE 4183. Controls Lab. 1 Credit.\\n', 'MAE 4193. Engineering Systems Design. 3 Credits.\\n', 'MAE 4194. Mechatronics Design. 3 Credits.\\n', 'MAE 4195. Mechatronics Lab. 1 Credit.\\n', 'MAE 4198. Research. 1-3 Credits.\\n', 'MAE 4199. Student Design Project. 1-3 Credits.\\n', 'MAE 6194. Mechatronics Design. 3 Credits.\\n', 'MAE 6195. Mechatronics Lab. 0 Credits.\\n', 'MAE 6201. Intro to Manufacturing. 3 Credits.\\n', 'MAE 6203. Adv Experimentation Tech. 3 Credits.\\n', 'MAE 6204. Tissue Engineering. 3 Credits.\\n', 'MAE 6207. Theory of Elasticity I. 3 Credits.\\n', 'MAE 6210. Continuum Mechanics. 3 Credits.\\n', 'MAE 6220. Applied Computational Fluid Dynamics. 3 Credits.\\n', 'MAE 6221. Fluid Mechanics. 3 Credits.\\n', 'MAE 6222. Applied Aerodynamics. 3 Credits.\\n', 'MAE 6223. Turbomachinery. 3 Credits.\\n', 'MAE 6224. Viscous Flow. 3 Credits.\\n', 'MAE 6225. Computational Fluid Dynamics. 3 Credits.\\n', 'MAE 6226. Aero/Hydrodynamics. 3 Credits.\\n', 'MAE 6227. Aeroelasticity. 3 Credits.\\n', 'MAE 6228. Compressible Flow. 3 Credits.\\n', 'MAE 6229. Propulsion. 3 Credits.\\n', 'MAE 6230. Space Propulsion. 3 Credits.\\n', 'MAE 6231. Structure and Transformations in Materials. 3 Credits.\\n', 'MAE 6232. Fracture Mechanics. 3 Credits.\\n', 'MAE 6233. Mechanics of Composite Materials. 3 Credits.\\n', 'MAE 6234. Composite Materials. 3 Credits.\\n', 'MAE 6235. Deformation and Failure of Materials. 3 Credits.\\n', 'MAE 6237. Applied Electrochemistry. 3 Credits.\\n', 'MAE 6238. Biomaterials. 3 Credits.\\n', 'MAE 6239. Computational Nanosciences. 3 Credits.\\n', 'MAE 6240. Kinematic Synthesis. 3 Credits.\\n', 'MAE 6241. Computer Models of Physical and Engineering Systems. 3 Credits.\\n', 'MAE 6242. Advanced Mechanisms. 3 Credits.\\n', 'MAE 6243. Advanced Mechanical Engineering Design. 3 Credits.\\n', 'MAE 6244. Computer-Integrated Engineering Design. 3 Credits.\\n', 'MAE 6245. Robotic Systems. 3 Credits.\\n', 'MAE 6246. Electromechanical Control Systems. 3 Credits.\\n', 'MAE 6247. Aircraft Design I. 3 Credits.\\n', 'MAE 6249. Spacecraft Design. 3 Credits.\\n', 'MAE 6251. Computer-Integrated Manufacturing. 3 Credits.\\n', 'MAE 6252. Projects in Computer-Integrated Design and Manufacturing. 3 Credits.\\n', 'MAE 6253. Aircraft Structures. 3 Credits.\\n', 'MAE 6254. Applied Nonlinear Control. 3 Credits.\\n', 'MAE 6255. Plasma Engineering in Aerospace and Nanotechnology. 3 Credits.\\n', 'MAE 6257. Theory of Vibration. 3 Credits.\\n', 'MAE 6258. Advanced Vibration Analysis and Control. 3 Credits.\\n', 'MAE 6260. Nanomechanics. 3 Credits.\\n', 'MAE 6261. Air Pollution. 3 Credits.\\n', 'MAE 6262. Energy Systems Analysis I. 3 Credits.\\n', 'MAE 6263. Advances in Energy Engineering. 3 Credits.\\n', 'MAE 6270. Theoretical Acoustics. 3 Credits.\\n', 'MAE 6271. Time Series Analysis. 3 Credits.\\n', 'MAE 6274. Dynamics/Cntrl of Spacecraft. 3 Credits.\\n', 'MAE 6275. Dynamics and Control of Aircraft. 3 Credits.\\n', 'MAE 6276. Mechanics of Space Flight. 3 Credits.\\n', 'MAE 6277. Spacecraft Attitude Control. 3 Credits.\\n', 'MAE 6280. Thermodynamics. 3 Credits.\\n', 'MAE 6281. Advanced Thermodynamics. 3 Credits.\\n', 'MAE 6282. Convective Heat/Mass Transfer. 3 Credits.\\n', 'MAE 6283. Radiative Heat Transfer. 3 Credits.\\n', 'MAE 6284. Combustion. 3 Credits.\\n', 'MAE 6286. Numerical Solution Techniques in Mechanica land Aerospace Engineering. 3 Credits.\\n', 'MAE 6287. Applied Finite Element Methods. 3 Credits.\\n', 'MAE 6288. Advanced Finite Element Analysis. 3 Credits.\\n', 'MAE 6290. Special Topics in Materials Science. 3 Credits.\\n', 'MAE 6291. Special Topics in Mechanical Engineering. 3 Credits.\\n', 'MAE 6292. Special Topics in Aerospace Engineering. 3 Credits.\\n', 'MAE 6298. Research. 1-6 Credits.\\n', 'MAE 6998. MS Thesis Research. 3 Credits.\\n', 'MAE 6999. MS Thesis Research. 3 Credits.\\n', 'MAE 8350. Advanced Topics in Materials Science. 3 Credits.\\n', 'MAE 8351. Advanced Topics in Mechanical Engineering. 3 Credits.\\n', 'MAE 8352. Advanced Topics in Aerospace Engineering. 3 Credits.\\n', 'MAE 8998. Advanced Reading & Research. 1-12 Credits.\\n', 'MAE 8999. Dissertation Research. 1-12 Credits.\\n']\n",
      "\n",
      "Description starts here\n",
      "\n",
      "['Introduction to technical drawing, including use of instruments, lettering, geometric construction, sketching, orthographic projection, section view, dimensioning, tolerancing, and pictorial drawing. Introduction to computer graphics, including topics covered in manual drawing and computer-aided drafting.   (Fall and spring).\\n', 'Numerical methods for engineering applications. Round-off errors and discretization errors. Methods for solving systems of linear equations, root finding, curve fitting, numerical Fourier transform, and data approximation. Numerical differentiation and integration and numerical solution of differential equations. Computer applications. Prerequisite: MATH 1232. (Fall, Every Year).\\n', 'Properties of linear systems. Mathematical modeling of dynamic systems. State space, state variables, and their selection. Linearization of non-linear behavior. Matrix functions. Solution of state equations in the time domain and using transformations. System stability and frequency response.\\n', 'Fundamentals of equilibrium thermodynamics; Zeroth, First, and Second Laws. Work, heat, internal energy, enthalpy, thermodynamic potential functions; heat transfer mechanisms, phase diagrams, equations of state and property tables, power systems, refrigeration, heat pump systems. Reversible and irreversible processes, Carnot cycle, entropy, exergy. Prerequisite: PHYS 1021.\\n', 'Economic systems and emergence of the free market; role of the patent system in the industrial development of the United States; constitutional foundations; evolution of the U.S. patent system; landmark litigation; impact on future innovation; international aspects; the likely future of the patent system.\\n', 'Acquisition and analysis of experimental data. Laws of modeling and simulation. Report formulation and presentation. Basic principles of measuring instruments and sensors. Fundamentals of digital data acquisition and use of computer-based data systems. Strain gages, oscilloscopes, transducers, and computerized data systems. Prerequisite: MAE 2117.\\n', 'Fluid properties, fluid statics, integral and differential formulations of conservation of mass, momentum, and energy. Bernoulli’s equation. Dimensional analysis and similitude. Inviscid flow. Viscous flow. Experimental and computational methods in fluid mechanics. Prerequisite: APSC 2058. (Fall, Every Year).\\n', 'Mechanical analysis of biological systems. Characterization of living tissue. Applications of statics, solid mechanics, kinematics, and elementary dynamics to the human musculoskeletal system. May be taken for graduate credit with departmental approval. Prerequisites: APSC 2057, CE 2220. (Spring, Every Year).\\n', 'Modeling of linear mechanical, electrical, and fluid systems as transfer functions and in state space. Linearization, discretization. Laplace and z-transforms. Natural frequencies and damping, free vibration, forced vibration. Measurement techniques, parameter estimation, and computer simulation. Time and frequency domain analysis. Prerequisite: APSC 2113; corequisite: APSC 2058.\\n', 'Coordinate systems and transformations, rocket equation, two-body problem, orbit transfers, orbit perturbations, attitude dynamics and stability of symmetric spacecraft, environmental and control torques. Prerequisite: APSC 2058. (Fall).\\n', 'Subsonic and supersonic aerodynamics: potential flow, lift and form drag, viscous effects, compressible flow. Prerequisite: MAE 3126.\\n', 'Basic structural theory of lightweight aerospace structures; analysis of typical monocoque structures; load transfer in stiffened panel structures; virtual work and energy methods of structural analysis, bending of open and closed, thin walled beams, shear and torsion of beams, and structural idealization. Restricted to juniors and seniors; permission of the instructor may be substituted. Prerequisites: APSC 2057 and CE 2220. (Fall, Every Year).\\n', 'Mechanical properties, plastic deformation dislocation theory, yielding, strengthening mechanisms, microstructure and properties, heat treatment of steel, composites, amorphous materials, viscoelastic deformation, creep, fracture, fatigue, fatigue crack propagation. Includes a significant engagement in writing as a form of critical inquiry and scholarly expression to satisfy the WID requirement. Prerequisites: CHEM 1111 and PHYS 1022. (Fall, Every Year).\\n', 'Measurement of strains and study of failure resulting from applied forces in ductile, brittle, anisotropic, elastomeric, plastic, and composite materials. Tension, compression, bending, impact, and shear failures. Prerequisites: MAE 3166W.   (Spring).\\n', 'Types of patents; international patents; inventorship; prosecution process; basic references for patents; detailed structure of a patent; patentability requirements; reexamination and reissue; litigation; infringement and invalidity; copyrights, trademarks, and trade dress. May be taken for graduate credit with approval of department.\\n', 'Forward and inverse kinematics modeling of robots, control design, trajectory planning, and force rendering. Corequisite: MAE 3197.\\n', 'Steady- and unsteady-state heat conduction problems. Analytical and numerical solution methods. Convective heat transfer, boundary-layer approach, analogy between heat and momentum transfer. Thermal radiation; fundamental concepts and laws. Heat-exchanger design. Prerequisite: MAE 3126, MAE 2131.\\n', 'Kinematics and dynamics of mechanisms. Displacements, velocities, and accelerations in linkage, cam, and gear systems by analytical, graphical, and computer methods. Synthesis of linkages to meet prescribed performance requirements. Prerequisite: APSC 2058.  (Fall).\\n', 'Strength of materials in a design context; stresses and deflections in engineering structures; theories of failure; design of mechanical components, such as fasteners, shafts, and springs; the use of computers in mechanical engineering design. Prerequisite: CE 2220.   (Fall, Every Year).\\n', 'Introduction to manufacturing techniques for metals, polymers, ceramics, and composites. Relationships between properties of materials and techniques for processing them. Process selection, design, control, and integration. Computer-integrated manufacturing, robotics and assembly automation. Prerequisite or concurrent registration: MAE 1004.\\n', 'Creative engineering design, problem definition, and concept generation; design of mechanisms and mechanical systems; safety, reliability, manufacturability, material selections, cost, and integration in the design process; finite element analysis of mechanical systems, computer-aided design, and optimization. Prerequisite: MAE 3191.   (Spring, Every Year).\\n', 'Presentation of the major elements of computer-aided engineering systems: interactive computer graphics, finite element analysis, and design optimization. Consideration of economics, safety, and reliability factors. Prerequisite: MAE 4193; concurrent registration: MAE 3196.\\n', 'Instruction and hands-on applications of computer-aided engineering systems to the design, analysis, and optimization of mechanical engineering components and systems. Concurrent registration: MAE 3195.\\n', 'Modeling and analysis of robot designs. Kinematics, statics, and dynamics of linkages. Design and selection of mechanical structures, actuators, transmissions, and sensors. Design of robotic control systems. Relevant computer hardware and software. Industrial applications and limitations of robot systems. Lab experiments. Same as ECE 4730. Prerequisite: MAE 3134.\\n', 'Mechanical analysis of physiological fluid dynamics. Application of fluid flow analysis techniques to cardiovascular, pulmonary, respiratory, and phonatory flows. Introduction to biomedical devices that manipulate physiological flows. May be taken for graduate credit with approval of department. Prerequisite: MAE 3128.\\n', 'Completion of a thermal systems design project that requires integration of engineering science, economics, reliability, safety, ethics, professional responsibility, and social considerations. Development and use of design methodology, optimization, feasibility considerations, detailed system descriptions, and presentation of results. Prerequisite: MAE 3187.\\n', 'Subsonic and supersonic wind tunnel experiments and simulations. Prerequisite: MAE 3155. (Fall).\\n', 'Lift and drag estimation methods. Airplane performance measures, such as range and endurance, turning flight, specific excess power and acceleration, takeoff and landing performance. Longitudinal and lateral-direction static and dynamic stability. Control surface effectiveness. Prerequisites: MAE 3134. (Fall).\\n', 'Fundamentals of materials science and engineering applied to artificial materials in the human body. Topics include biocompatibility, techniques to minimize corrosion or other degradation of implant materials, and the use of artificial materials in various tissues and organs. Prerequisite: Approval of department. Course not open to MAE students.\\n', 'Design experience in group projects involving following precisely the teachings of a licensed patent; or avoiding infringement of a provided patent while offering a competitive alternative; or evaluating a provided patent in light of prior art or by attempting to design a competitive product. May be taken for graduate credit with approval of department. Prerequisite: MAE 3171 and senior status.\\n', 'Application of control theory to the design of electromechanical systems. Transducers, valves, and other control components. Mathematical models of open- and closed-loop electromechanical systems. Root locus and frequency response methods; application to the synthesis of feedback systems by both manual and computer-aided techniques. Prerequisite: MAE 2117, MAE 3134.\\n', 'Modeling, control design, simulation, implementation, tuning, and operation of a control system. Corequisite: MAE 4182.\\n', 'Creative engineering design, problem definition, and concept generation. Design of journal and roller element bearings, fasteners and permanent joints, and springs. Design project incorporating design selection, and optimization. Project presentation using graphical and computer resources. Prerequisite: MAE 3191. (Fall, Every Year).\\n', 'Data acquisition and digital signal processing. Sensors and their characteristics—displacement, position/velocity, force/pressure, piezoelectric. Actuators—mechanical, electrical, pneumatic, hydraulic. Modeling and simulation of dynamic systems. Mechanism design. Digital control systems. Microprocessors, digital logic/circuits, motor drives. Lab experiments. Prerequisite: MAE 4182.\\n', 'Corequisite: MAE 4194.\\n', 'Applied research and experimentation projects, as arranged. Prerequisite: junior or senior status.\\n', 'Student projects involving extensive design of various mechanical engineering systems. May be taken for graduate credit with the expectation that additional work will be required. Prerequisites: seniors.   (Fall and spring, Every Year).\\n', 'Review of data acquisition and digital signal processing; mathematical models, design, and applications of sensors and actuators in mechatronic systems; theory and applications of mechanism design; microprocessor-based design integration, motor drives, and digital logic/circuits. Corequisite: MAE 6195. Restricted to graduate students. (Same as MAE 4194)   (Spring, Every Year).\\n', 'Designing and building a mechatronic system based around a programmable microcontroller; using sensors and actuators to create devices capable of sensing their surrounding environment and reacting to stimuli from that environment. Corequisite: MAE 6194. Restricted to graduate students. (Same as MAE 4195)   (Spring, Every Year).\\n', 'Fundamentals of modern manufacturing. Processes for manufacturing mechanical and electronic components from metals, polymers, ceramics, and silicon. Manufacturing systems, CAD, robotics, and design for assembly. Current capabilities, technological needs, and competitiveness. Examples from high-tech industries. Prerequisite: approval of department.\\n', 'Sensors; measurement of displacement, temperature, pressure and velocity. Optical methods. Signal conditioning. Computer data acquisition. Uncertainty analysis. Case studies of instrumentation systems such as hot-wire anemometers, laser-doppler anemometers, shlieren/shadowgraph and interferometers. Laboratory projects.    (As arranged).\\n', 'No course description.\\n', 'Introduction to Cartesian tensors; deformation, stress, constitutive relations for linear elasticity; formulation of boundary value problems, variational principles, torsion and bending of prismatial rods, plane problems. Prerequisite: approval of department. Same as CE 6207.\\n', 'Tensor analysis; fundamental concepts of continuum mechanics; kinematics of continuum; derivation of balance laws of mass, linear momentum, angular momentum, energy and entropy; axioms of constitutive theory; formulation of constitutive theories; Onsager’s principle; objectivity; representation theorem for isotropic functions; plasticity, including concepts of internal variables, yield surface, return mapping algorithm. Departmental approval required. (Fall, Every Year).\\n', 'Basic principles of fluid dynamics and aerodynamics. Finite difference and finite volume methods. Fluid flow and heat transfer analysis of thermo-fluid mechanical systems. Computational aerodynamics codes. Individual hands-on experience with a commercial CFD code such as FLUENT. Prerequisite: approval of department.\\n', 'Continuum, kinematics of fluids; stress and strain rate tensors; fundamental equations of viscous compressible flows. Irrotational flows; sources, sinks, doublets, and vortices. Laminar flow of viscous incompressible fluids; boundary-layer concept. Prerequisite: approval of department.\\n', 'Introduction to practical and computational methods for solving two-dimensional and three-dimensional aerodynamics problems. Linear methods, nonlinear potential methods, coordinate transforms, and boundary-layer methods. Prerequisite: MAE 6221, MAE 6286.\\n', 'Turbine, compressor, and pump types and uses; dimensional analysis of turbomachines; cycle analysis of gas and steam turbines; energy interchange in fluid machinery; design, characteristics, and performance of turbines, compressors, and pumps; comparison of types of turbines, compressors, and pumps. Prerequisite: MAE 6221.\\n', 'Exact solutions of Navier–Stokes equations; the laminar boundary-layer theory. Reynolds stresses and turbulence; internal, boundary-layer, and mixing flows. Applications to heat and mass transfer and to reacting flows. Prerequisite: APSC 6213, MAE 6221, .\\n', 'Theory of discrete methods for solving the governing equations of fluid dynamics. Potential flow, Euler equations, Navier-Stokes equations. Emphasis on algorithm development appropriate to modern supercomputers. Prerequisite: MAE 6221, MAE 6286.\\n', 'Inviscid flows in two and three dimensions and irrotational flow theory; conformal mapping and applications. Helmoltz theorems and vorticity dynamics. Applications such as airfoil theory, finite wing theory, panel methods, instabilities, free surface flow. Prerequisite: MAE 6221 .\\n', 'Static and dynamic structural deformations; static aeroelasticity (structural deformation, divergence, control effectiveness, and reversal); dynamic aeroelasticity (flutter, response to gusts and turbulence); unsteady aerodynamics for 2-D wings; strip theory for 3-D lifting surfaces; piston and Newtonian-flow theories. Prerequisite: MAE 6221, MAE 6257.\\n', 'Thermodynamics and equations of compressible inviscid flow. One-dimensional flow. Isentropic flow. Normal and oblique shock waves. Quasi-one-dimensional flow. Unsteady one-dimensional and steady two-dimensional flow. Introduction to transonic flow. Prerequisite: APSC 6213, MAE 6221 .\\n', 'Basic concepts of propulsion: energy transformations in propulsive flows, gas dynamics of combustion. Thermal and propulsive efficiencies. Cycle and engine component analysis. Intake, nozzle performance. Drag and thrust generation. Augmentation. Propellers, turbojets, turbofans, ramjets, and rockets. Prerequisite: Graduate Standing or MAE 2131 and MAE 3126. (Spring).\\n', 'Advanced chemical propulsion: dynamic combustion and instabilities in solid propellants. Injection, atomization, mixing in liquid propellant engine performance. Plasma propulsion: electrostatic, electromagnetic, and electrothermal instabilities (laser and microwave). Nuclear propulsion. Prerequisite: MAE 6229.\\n', 'Structure of crystals, crystal binding, crystal defects, dislocations, solid solutions, phases, diffusion, phase transformations, deformation twinning, and martensite. Prerequisite: APSC 2130.\\n', 'Concepts, history, and recent developments of fracture mechanics. Singularity at the crack tip; solutions around crack tip; stress intensity factors; energy release rate; J-integral; direction of crack extension; Plasticity and slow crack growth; dynamic crack propagation; molecular dynamics simulation of fracture. Prerequisite: approval of department.\\n', 'Stress-strain relationship for orthotropic materials, invariant properties of an orthotropic lamina, biaxial strength theory for an orthotropic lamina. Mechanics of materials approach to stiffness, elasticity approach to stiffness. Classical lamination theory, strength of laminates. Statistical theory of fatigue damage. Same as CE 6209.  Prerequisite: approval of department.\\n', 'Principles of composites and composite reinforcement. Micromechanics and failure, interface reactions in various composites, reinforcing materials. Structure of composites: fiber-reinforced polymers, filler-reinforced polymers, fiber-reinforced metals, directionally solidified alloys, dispersion-strengthened metals. Prerequisite: approval of department.\\n', 'Elastic and plastic deformation, yield, dislocation theory, strengthening mechanisms, creep, polymers, fracture, transition temperature, microstructure, fatigue.    (Spring, odd years).\\n', 'Charged interfaces, electrochemical cells, corrosion thermodynamics, electrode kinetics, general corrosion, crevice corrosion, pitting, stress-corrosion cracking, corrosion protection, batteries and fuel cells, energy storage. May include current and potential distribution in electrochemical cells and scaling effects in modeling. Prerequisite: approval of department.\\n', 'Applications of materials science and engineering to artificial materials in the human body with the objective of detailed understanding of synthetic materials and biopolymers. Biocompatibility and its consequences on tissue–implant interfaces. Design and development of new implant materials, drug delivery systems, and biosensors. Prerequisite: MAE 3166 or MAE 4168.\\n', 'Introduction to surface force measurements in nanosciences; continuum contact mechanics in nanoscience research; intermolecular forces; empirical potentials for transition metals; surface forces in liquids; large-scale atomic/molecular massively parallel simulator; force field development from quantum mechanical density–functional theory for organic/metal molecular systems. Prerequisite: approval of department.\\n', 'Techniques for the analysis and synthesis of function, path, and motion generating mechanisms. Methods for the dimensional design of mechanisms. Computer-aided techniques for the optimal design of planar linkages. Review of recent developments and current research. Term project. Prerequisite: MAE 3190 .\\n', 'Reduction of physical and engineering systems to simplified physical and mathematical models. Manipulation of models using C/C programming. Numerical algorithms for optimization, graph identification, mini-sum arithmetic, and searching. Styles of problem solving. Prerequisite: MAE 2117.\\n', 'Emphasis on spatial kinematics. Analysis and synthesis of mechanisms. Analytical techniques using matrices, dual numbers, quaternion algebra, finite and instantaneous screws, theory of envelopes. Applications to design of linkages, cams, gears. Use of digital computers in mechanism analysis and design. (Spring, even years).\\n', 'Design of mechanical engineering components and systems emphasizing computer-aided engineering (CAE), including interactive computer graphics, finite element analysis, and design optimization. Creation of a complete design on an engineering workstation. Prerequisite: approval of department.\\n', 'Design of engineering components and systems on engineering workstations using I-DEAS. Interactive computer graphics, finite element analysis, computer-based design optimization, and other relevant computer-based tools. Students apply design concepts in a computer-aided engineering environment to a selected project. Prerequisite: approval of department.\\n', 'Classification, features, and applications of industrial robots. Spatial descriptions and transformations, forward and inverse kinematics. Jacobian matrix, velocities and static forces, manipulator dynamics and controls. Robot actuators, transmissions, sensors, end effectors, and programming. Prerequisite: MAE 4182 .\\n', 'State–space representations of dynamic systems; dynamics of linear systems; controllability and observability; linear observers; compensator design by separation principle; linear–quadratic optimal control; Riccati equations; random processes; Kalman filter; applications of optimal stochastic control theory to robotics and earthquake engineering. Prerequisite: approval of department.\\n', 'Conceptual design methods used in response to prescribed mission and performance requirements, alternate configuration concepts. Configuration general arrangement and empennage sizing. Estimation of aircraft size, weight, and balance; lift, thrust and drag; system level tradeoff and sensitivity studies. Prerequisite: Graduate Standing or MAE 4163. (Spring).\\n', 'Computer-aided design of spacecraft and satellites to meet specific mission requirements. Environment, propulsion, structure, heat transfer, orbital mechanics, control considerations. Use of modern computer codes for design studies. Prerequisite: MAE 3145 or graduate student standing. (Spring, Every Year).\\n', 'Automation techniques for processing metals, polymers, and composites. Use of sensing and process modeling in process control. Numerical control and robot applications and limitations. Integration, scheduling, and tool management in the computer-integrated factory. Quality control. Social and economic considerations in CIM. Prerequisite: MAE 3192 .\\n', 'Applications of the concepts of computer-integrated manufacturing to group projects, culminating in written and oral presentations. Robot programming, vision-guided assembly, force sensing, fixturing, and end-effector design for practical applications. Factory simulation, part scheduling, and NC program-verification algorithms. Prerequisite: MAE 6251.\\n', 'Statics of thin-walled beams and panels, force interplay between stiffeners and skin in the analysis and design of stiffened thin-walled structures. Strength and stiffness of locally buckled stiffened structures. Design considerations. Critical evaluation of various design procedures. Prerequisite: approval of department.\\n', 'Dynamic characteristics of nonlinear systems. State stability and input-output stability. Lyapunov stability theory and invariance principle. Nonlinear control systems, including feedback linearization, back-stepping, sliding mode control, and passivity-based design. Applications to robotics, aircraft, and spacecraft control systems. Geometric controls and hybrid systems. Prerequisite: approval of department.\\n', 'Plasma fundamentals, electromagnetic waves in plasma, plasma–wall interactions, modeling and experimental techniques in plasmas, electrical discharge, plasma propulsion, plasma-based nanotechnology. Prerequisite: MAE 3126.\\n', 'Damped and undamped natural vibration, response of single- and multiple-degrees-of-freedom systems to steady-state and transient excitations, modal analysis, nonproportional damping and complex modes, variation formulation of equations of motion, discretization of structural systems for vibrational analysis. Prerequisite: approval of department.\\n', 'Passive and active vibration control of discrete and continuous systems, dynamic vibration absorbers, random vibrations, failure analysis, modal analysis, nonlinear vibrations. Prerequisites: MAE 3134 and MAE 4182 or graduate standing.   (Spring).\\n', 'Introduction to crystallography; interatomic potentials; phonon dispersion relations; molecular dynamics simulation; Nose–Hoover thermostat; coarse grained non-equilibrium molecular dynamics; multiple length/time scale theory of multi-physics; microcontinuum field theories; applications to nano materials/structures. Prerequisite: approval of department.\\n', 'Introductory course on the generation, monitoring, and control of air pollution. Atmospheric pollutants; current levels and health problems. Combustion chemistry and mixing. Photochemical processes; smog and measurements. Atmospheric dispersion; inversion and acid rain. Prerequisite: approval of department.\\n', 'Analysis of energy resources and conversion devices. Statistical data analysis, forecasting, I/O, and net energy analyses, mathematical modeling. Prerequisite: approval of department.\\n', 'Review of thermodynamics, heat transfer, fluid dynamics, and materials technology used in the energy industries. New energy-efficient technologies in transportation and buildings; renewable energy (wind, solar, and biomass). Climate change and sustainability issues, such as carbon capture, cap and trade, carbon sequestration.\\n', 'Basic acoustic theory in stationary and uniformly moving media; waves in infinite space; sound transmission through interfaces; sound radiation from simple solid boundaries, source and dipole fields; propagation in ducts and enclosures; elements of classical absorption of sound. Prerequisite: APSC 6213, MAE 6221.\\n', 'Harmonic analysis of random signals; auto- and cross-correlations and spectra; coherence; modern techniques for spectral estimation, including fast Fourier transform, maximum entropy, and maximum likelihood; bias and variability; randomly sampled data; digital filtering; applications. Prerequisite: approval of department.\\n', 'Fundamentals of satellite attitude dynamics and passive stabilization. Spacecraft attitude representation, rotational kinematics and kinetics. External torques. Dynamics of gyroscopes. Gravity gradient stabilization. Effect of internal energy dissipation on stability of spinning bodies and methods of despin. Dual spin satellites. Prerequisite: approval of department.\\n', 'Derivation of equations of motion, Euler transformations and direction cosines, stability derivatives and linearization of equations of motion, stability of linear systems with application to longitudinal and lateral dynamics, Laplace transform techniques, and frequency-response analysis. Departmental approval required prior to registration. (Fall, even years).\\n', 'Coordinate and time systems. Newton’s laws; 2-, 3-, and n-body problems, Lagrange points, gravity-assisted trajectories, variation of parameters and orbit perturbations, non-central gravity effects, drag, sun-synchronous, and formation orbits. Numerical applications using MatLab. Prerequisite: approval of department.\\n', 'Control of spinning and three-axis stabilized spacecraft. Elements of linear control theory for single-input, single-output systems and basic feedback control laws. Momentum management and actuator desaturation. Sensors for attitude determination. Application of modern control for multi-input, multi-output systems. Control system simulations using MatLab.    (As arranged).\\n', 'Review of First and Second Laws of Thermodynamics and combining the two through exergy; entropy generation minimization and applications. Single phase systems, exergy analyses, multiphase systems, phase diagrams and the corresponding states principle. Prerequisite: approval of department.\\n', 'Development of classical and quantum statistical mechanics, including Maxwell–Boltzman distributions and microscopic origins of entropy and other thermodynamic variables. Partition functions and micro- and grand-canonical ensembles; Fermi–Dirac, Bose–Einstein, and intermediate statistics. Einstein and Debye models of solids. Prerequisite: MAE 6280 .\\n', 'Heat and momentum transfer in laminar and turbulent flow. The laminar boundary-layer solution. Similarity and nondimensional parameters. Mass-momentum heat transfer analogy. Convective heat transfer at high velocity. Stability, transition, and turbulence. Free convection. Prerequisite: MAE 6221 .\\n', 'Basic concepts of heat transfer by thermal radiation starting from Planck’s equation for blackbody radiation. Realistic engineering problems are addressed, some involving radiative heat transfer with a variety of surfaces, geometries, and enclosures. Radiative heat flow combined with conduction and convection boundaries. Prerequisite: approval of department.\\n', 'Basic combustion phenomena. Rate processes and chemical kinetics. Chain reaction theory. Detonation, deflagration, diffusion flames, heterogeneous combustion. Experimental measurements. Impact of pollution regulations and alternate fuels. Prerequisite: approval of department.\\n', 'Development of finite difference and finite element techniques for solving elliptic, parabolic, and hyperbolic partial differential equations. Prerequisite: APSC 6213.\\n', 'Review of theory of elasticity. Basic aspects of theory and application of finite element methods. Utilization of MSC/NASTRAN for static, dynamic, linear, and nonlinear analyses of problems in mechanical, aeronautical, and astronautical engineering. Course emphasizes individual hands-on experience with the MSC/NASTRAN code. Prerequisite: approval of department.\\n', 'Review of variational formulation of the finite element method. Finite element analysis of large-strain thermomechanics. Applications to static and dynamic problems in finite elasticity, Fung elasticity (biomechanics), nonlocal theory, active stress in living biological tissues, biological growth, and large-strain plasticity. Recent developments in finite element methods. Same as CE 8330. Prerequisite: approval of department.\\n', 'Selected subjects of current interest. Arranged by consultation between department faculty and students. Typical topics include experimental methods in materials science and nondestructive inspection of materials. Prerequisite: approval of department.\\n', 'Selected subjects of current interest. Arranged by consultation between department faculty and students. Typical topics include tribology, power systems design, solar heating systems, HVAC, and plasticity theory. Prerequisite: approval of department.\\n', 'Selected subjects of current interest. Arranged by consultation between department faculty and students. Typical topics include environmental noise control, aeroacoustics, hypersonic flow, and flight vehicle aerodynamics. May be repeated for credit. Prerequisite: approval of department.\\n', 'Basic research projects as arranged. May be repeated for credit.\\n', 'No course description.\\n', 'No course description.\\n', 'Topics such as surface science that are of current research interest. Selected after consultation between department faculty and students. Prerequisite: approval of department.\\n', 'Topics such as advanced analytical mechanics, advanced mechanics of continua, and advanced theory of elasticity that are of current research interest. Selected after consultation between department faculty and students. Prerequisite: approval of department.\\n', 'Topics such as nonsteady flow, physical gas dynamics, turbulence, and nonlinear wave propagation that are of current research interest. Selected after consultation between department faculty and students. Prerequisite: approval of department.\\n', 'Limited to students preparing for the Doctor of Philosophy qualifying examination. May be repeated for credit.\\n', 'Limited to Doctor of Philosophy candidates. May be repeated for credit.\\n']\n"
     ]
    }
   ],
   "source": [
    "print(\"Class info\")\n",
    "print()\n",
    "print(class_info)\n",
    "print()\n",
    "print(\"Description starts here\")\n",
    "print()\n",
    "print(description)\n",
    "\n"
   ]
  },
  {
   "cell_type": "code",
   "execution_count": 9,
   "id": "60324697-e906-42c8-8b9e-40f3bf53a4f6",
   "metadata": {},
   "outputs": [
    {
     "name": "stdout",
     "output_type": "stream",
     "text": [
      "108\n"
     ]
    },
    {
     "data": {
      "text/plain": [
       "108"
      ]
     },
     "execution_count": 9,
     "metadata": {},
     "output_type": "execute_result"
    }
   ],
   "source": [
    "print(len(class_info))\n",
    "len(description)"
   ]
  },
  {
   "cell_type": "code",
   "execution_count": 10,
   "id": "e2ce4f12-ba81-4bbf-9104-d02c00f90398",
   "metadata": {},
   "outputs": [
    {
     "data": {
      "text/plain": [
       "['MAE 1004. Engineering Drawing and Computer Graphics. 0-3 Credits.\\n',\n",
       " 'MAE 2117. Engineering Computations. 3 Credits.\\n',\n",
       " 'MAE 2124. Linear Systems Analysis for Robotics. 3 Credits.\\n',\n",
       " 'MAE 2131. Thermodynamics. 3 Credits.\\n',\n",
       " 'MAE 2170. History and Impact of the US Patent System. 3 Credits.\\n']"
      ]
     },
     "execution_count": 10,
     "metadata": {},
     "output_type": "execute_result"
    }
   ],
   "source": [
    "class_info[0:5]"
   ]
  },
  {
   "cell_type": "code",
   "execution_count": 11,
   "id": "26b069ab-b5c2-447c-99f7-7d1f6eeceda0",
   "metadata": {},
   "outputs": [
    {
     "data": {
      "text/plain": [
       "['Introduction to technical drawing, including use of instruments, lettering, geometric construction, sketching, orthographic projection, section view, dimensioning, tolerancing, and pictorial drawing. Introduction to computer graphics, including topics covered in manual drawing and computer-aided drafting.   (Fall and spring).\\n',\n",
       " 'Numerical methods for engineering applications. Round-off errors and discretization errors. Methods for solving systems of linear equations, root finding, curve fitting, numerical Fourier transform, and data approximation. Numerical differentiation and integration and numerical solution of differential equations. Computer applications. Prerequisite: MATH 1232. (Fall, Every Year).\\n',\n",
       " 'Properties of linear systems. Mathematical modeling of dynamic systems. State space, state variables, and their selection. Linearization of non-linear behavior. Matrix functions. Solution of state equations in the time domain and using transformations. System stability and frequency response.\\n',\n",
       " 'Fundamentals of equilibrium thermodynamics; Zeroth, First, and Second Laws. Work, heat, internal energy, enthalpy, thermodynamic potential functions; heat transfer mechanisms, phase diagrams, equations of state and property tables, power systems, refrigeration, heat pump systems. Reversible and irreversible processes, Carnot cycle, entropy, exergy. Prerequisite: PHYS 1021.\\n',\n",
       " 'Economic systems and emergence of the free market; role of the patent system in the industrial development of the United States; constitutional foundations; evolution of the U.S. patent system; landmark litigation; impact on future innovation; international aspects; the likely future of the patent system.\\n']"
      ]
     },
     "execution_count": 11,
     "metadata": {},
     "output_type": "execute_result"
    }
   ],
   "source": [
    "description[0:5]"
   ]
  },
  {
   "cell_type": "markdown",
   "id": "107fa626-2be5-4b40-a248-399e80c496c9",
   "metadata": {},
   "source": [
    "## separate class info"
   ]
  },
  {
   "cell_type": "code",
   "execution_count": 28,
   "id": "770f16a2-0d3b-4928-b1c6-f2a4382d61cf",
   "metadata": {},
   "outputs": [],
   "source": [
    "class_id = []\n",
    "class_title = []\n",
    "class_credits = []\n",
    "\n",
    "for info in class_info:\n",
    "    ident, title, credits, _ = info.split(\".\")\n",
    "    # split = info.split(\".\")\n",
    "    class_id.append(ident.strip())\n",
    "    class_title.append(title.strip())\n",
    "    class_credits.append(credits.strip())\n",
    "    # class_id.append(split[0])\n",
    "    # class_title.append(split[1])\n",
    "    # class_credits.append(split[2])"
   ]
  },
  {
   "cell_type": "markdown",
   "id": "c1e7dccd-6d29-49d2-b87b-2a81bf4dac5a",
   "metadata": {},
   "source": [
    "### sanity checks"
   ]
  },
  {
   "cell_type": "code",
   "execution_count": 29,
   "id": "1ffb8314-012e-4510-b89c-2f3ae56c512a",
   "metadata": {},
   "outputs": [
    {
     "name": "stdout",
     "output_type": "stream",
     "text": [
      "['MAE 1004', 'MAE 2117', 'MAE 2124', 'MAE 2131', 'MAE 2170']\n"
     ]
    }
   ],
   "source": [
    "print(class_id[0:5])"
   ]
  },
  {
   "cell_type": "code",
   "execution_count": 30,
   "id": "b2c12344-d881-4447-a7ac-4f7a53646640",
   "metadata": {},
   "outputs": [
    {
     "name": "stdout",
     "output_type": "stream",
     "text": [
      "['Engineering Drawing and Computer Graphics', 'Engineering Computations', 'Linear Systems Analysis for Robotics', 'Thermodynamics', 'History and Impact of the US Patent System']\n"
     ]
    }
   ],
   "source": [
    "print(class_title[0:5])"
   ]
  },
  {
   "cell_type": "code",
   "execution_count": 31,
   "id": "88817807-e08e-4d86-bfae-a7c9f3ab1064",
   "metadata": {},
   "outputs": [
    {
     "name": "stdout",
     "output_type": "stream",
     "text": [
      "['0-3 Credits', '3 Credits', '3 Credits', '3 Credits', '3 Credits']\n"
     ]
    }
   ],
   "source": [
    "print(class_credits[0:5])"
   ]
  },
  {
   "cell_type": "code",
   "execution_count": 32,
   "id": "431346dc-266a-42d2-8cab-6bb25f43a11b",
   "metadata": {},
   "outputs": [
    {
     "name": "stdout",
     "output_type": "stream",
     "text": [
      "108 108 108\n"
     ]
    }
   ],
   "source": [
    "print(len(class_id), len(class_title), len(class_credits))"
   ]
  },
  {
   "cell_type": "markdown",
   "id": "db15ee46-df7d-4ed4-98fa-0909c4ef2178",
   "metadata": {},
   "source": [
    "### specific class info"
   ]
  },
  {
   "cell_type": "code",
   "execution_count": 33,
   "id": "c5adaa06-588d-4305-86a2-bc6a61bf572c",
   "metadata": {},
   "outputs": [
    {
     "name": "stdout",
     "output_type": "stream",
     "text": [
      "MAE 3190\n",
      "Analysis and Synthesis of Mechanisms\n",
      "3 Credits\n",
      "Kinematics and dynamics of mechanisms. Displacements, velocities, and accelerations in linkage, cam, and gear systems by analytical, graphical, and computer methods. Synthesis of linkages to meet prescribed performance requirements. Prerequisite: APSC 2058.  (Fall).\n",
      "\n"
     ]
    }
   ],
   "source": [
    "index = class_id.index(\"MAE 3190\")\n",
    "\n",
    "print(class_id[index])\n",
    "print(class_title[index])\n",
    "print(class_credits[index])\n",
    "print(description[index])"
   ]
  },
  {
   "cell_type": "code",
   "execution_count": 42,
   "id": "81100ab8-0423-4043-9030-f928d52aa44a",
   "metadata": {},
   "outputs": [
    {
     "name": "stdout",
     "output_type": "stream",
     "text": [
      "85 classes have prerequisites\n"
     ]
    }
   ],
   "source": [
    "prereqs = 0\n",
    "prereq_ids = []\n",
    "\n",
    "for index, desc in enumerate(description):\n",
    "    # if (\"Prerequisite:\" in desc) or (\"Prerequisites:\" in desc):\n",
    "    if (\"Prerequisite\" in desc):\n",
    "        # if not ((\"Prerequisite:\" in desc) or (\"Prerequisites:\" in desc)):\n",
    "        #     print(desc)\n",
    "        prereqs = prereqs + 1\n",
    "        prereq_ids.append(class_id[index])\n",
    "\n",
    "print(f\"{prereqs} classes have prerequisites\")"
   ]
  },
  {
   "cell_type": "code",
   "execution_count": 43,
   "id": "c5274739-8d5d-47a7-af6b-5d8792422928",
   "metadata": {},
   "outputs": [
    {
     "name": "stdout",
     "output_type": "stream",
     "text": [
      "['MAE 2117', 'MAE 2131', 'MAE 3120', 'MAE 3126', 'MAE 3128', 'MAE 3134', 'MAE 3145', 'MAE 3155', 'MAE 3162', 'MAE 3166W', 'MAE 3167W', 'MAE 3187', 'MAE 3190', 'MAE 3191', 'MAE 3192', 'MAE 3193', 'MAE 3195', 'MAE 3197', 'MAE 4129', 'MAE 4149', 'MAE 4157', 'MAE 4163', 'MAE 4168', 'MAE 4172', 'MAE 4182', 'MAE 4193', 'MAE 4194', 'MAE 4198', 'MAE 4199', 'MAE 6201', 'MAE 6207', 'MAE 6220', 'MAE 6221', 'MAE 6222', 'MAE 6223', 'MAE 6224', 'MAE 6225', 'MAE 6226', 'MAE 6227', 'MAE 6228', 'MAE 6229', 'MAE 6230', 'MAE 6231', 'MAE 6232', 'MAE 6233', 'MAE 6234', 'MAE 6237', 'MAE 6238', 'MAE 6239', 'MAE 6240', 'MAE 6241', 'MAE 6243', 'MAE 6244', 'MAE 6245', 'MAE 6246', 'MAE 6247', 'MAE 6249', 'MAE 6251', 'MAE 6252', 'MAE 6253', 'MAE 6254', 'MAE 6255', 'MAE 6257', 'MAE 6258', 'MAE 6260', 'MAE 6261', 'MAE 6262', 'MAE 6270', 'MAE 6271', 'MAE 6274', 'MAE 6276', 'MAE 6280', 'MAE 6281', 'MAE 6282', 'MAE 6283', 'MAE 6284', 'MAE 6286', 'MAE 6287', 'MAE 6288', 'MAE 6290', 'MAE 6291', 'MAE 6292', 'MAE 8350', 'MAE 8351', 'MAE 8352']\n"
     ]
    }
   ],
   "source": [
    "print(prereq_ids)"
   ]
  },
  {
   "cell_type": "code",
   "execution_count": 44,
   "id": "457efd00-f750-4571-ab16-d45e561fe655",
   "metadata": {},
   "outputs": [
    {
     "name": "stdout",
     "output_type": "stream",
     "text": [
      "85\n"
     ]
    }
   ],
   "source": [
    "print(len(prereq_ids))"
   ]
  },
  {
   "cell_type": "markdown",
   "id": "8831001c-a9cf-4d63-ad49-30eb0ec0912a",
   "metadata": {},
   "source": [
    "## Read CSV"
   ]
  },
  {
   "cell_type": "code",
   "execution_count": 8,
   "id": "101e6b95-4e10-4372-819d-91e9be0a573a",
   "metadata": {},
   "outputs": [],
   "source": [
    "data = open(\"data/inflammation-01.csv\")"
   ]
  },
  {
   "cell_type": "code",
   "execution_count": 9,
   "id": "55c97761-2065-4197-b092-65495908879e",
   "metadata": {},
   "outputs": [
    {
     "name": "stdout",
     "output_type": "stream",
     "text": [
      "0,0,1,3,1,2,4,7,8,3,3,3,10,5,7,4,7,7,12,18,6,13,11,11,7,7,4,6,8,8,4,4,5,7,3,4,2,3,0,0\n",
      "0,1,2,1,2,1,3,2,2,6,10,11,5,9,4,4,7,16,8,6,18,4,12,5,12,7,11,5,11,3,3,5,4,4,5,5,1,1,0,1\n",
      "0,1,1,3,3,2,6,2,5,9,5,7,4,5,4,15,5,11,9,10,19,14,12,17,7,12,11,7,4,2,10,5,4,2,2,3,2,2,1,1\n",
      "0,0,2,0,4,2,2,1,6,7,10,7,9,13,8,8,15,10,10,7,17,4,4,7,6,15,6,4,9,11,3,5,6,3,3,4,2,3,2,1\n",
      "0,1,1,3,3,1,3,5,2,4,4,7,6,5,3,10,8,10,6,17,9,14,9,7,13,9,12,6,7,7,9,6,3,2,2,4,2,0,1,1\n",
      "0,0,1,2,2,4,2,1,6,4,7,6,6,9,9,15,4,16,18,12,12,5,18,9,5,3,10,3,12,7,8,4,7,3,5,4,4,3,2,1\n",
      "0,0,2,2,4,2,2,5,5,8,6,5,11,9,4,13,5,12,10,6,9,17,15,8,9,3,13,7,8,2,8,8,4,2,3,5,4,1,1,1\n",
      "0,0,1,2,3,1,2,3,5,3,7,8,8,5,10,9,15,11,18,19,20,8,5,13,15,10,6,10,6,7,4,9,3,5,2,5,3,2,2,1\n",
      "0,0,0,3,1,5,6,5,5,8,2,4,11,12,10,11,9,10,17,11,6,16,12,6,8,14,6,13,10,11,4,6,4,7,6,3,2,1,0,0\n",
      "0,1,1,2,1,3,5,3,5,8,6,8,12,5,13,6,13,8,16,8,18,15,16,14,12,7,3,8,9,11,2,5,4,5,1,4,1,2,0,0\n",
      "0,1,0,0,4,3,3,5,5,4,5,8,7,10,13,3,7,13,15,18,8,15,15,16,11,14,12,4,10,10,4,3,4,5,5,3,3,2,2,1\n",
      "0,1,0,0,3,4,2,7,8,5,2,8,11,5,5,8,14,11,6,11,9,16,18,6,12,5,4,3,5,7,8,3,5,4,5,5,4,0,1,1\n",
      "0,0,2,1,4,3,6,4,6,7,9,9,3,11,6,12,4,17,13,15,13,12,8,7,4,7,12,9,5,6,5,4,7,3,5,4,2,3,0,1\n",
      "0,0,0,0,1,3,1,6,6,5,5,6,3,6,13,3,10,13,9,16,15,9,11,4,6,4,11,11,12,3,5,8,7,4,6,4,1,3,0,0\n",
      "0,1,2,1,1,1,4,1,5,2,3,3,10,7,13,5,7,17,6,9,12,13,10,4,12,4,6,7,6,10,8,2,5,1,3,4,2,0,2,0\n",
      "0,1,1,0,1,2,4,3,6,4,7,5,5,7,5,10,7,8,18,17,9,8,12,11,11,11,14,6,11,2,10,9,5,6,5,3,4,2,2,0\n",
      "0,0,0,0,2,3,6,5,7,4,3,2,10,7,9,11,12,5,12,9,13,19,14,17,5,13,8,11,5,10,9,8,7,5,3,1,4,0,2,1\n",
      "0,0,0,1,2,1,4,3,6,7,4,2,12,6,12,4,14,7,8,14,13,19,6,9,12,6,4,13,6,7,2,3,6,5,4,2,3,0,1,0\n",
      "0,0,2,1,2,5,4,2,7,8,4,7,11,9,8,11,15,17,11,12,7,12,7,6,7,4,13,5,7,6,6,9,2,1,1,2,2,0,1,0\n",
      "0,1,2,0,1,4,3,2,2,7,3,3,12,13,11,13,6,5,9,16,9,19,16,11,8,9,14,12,11,9,6,6,6,1,1,2,4,3,1,1\n",
      "0,1,1,3,1,4,4,1,8,2,2,3,12,12,10,15,13,6,5,5,18,19,9,6,11,12,7,6,3,6,3,2,4,3,1,5,4,2,2,0\n",
      "0,0,2,3,2,3,2,6,3,8,7,4,6,6,9,5,12,12,8,5,12,10,16,7,14,12,5,4,6,9,8,5,6,6,1,4,3,0,2,0\n",
      "0,0,0,3,4,5,1,7,7,8,2,5,12,4,10,14,5,5,17,13,16,15,13,6,12,9,10,3,3,7,4,4,8,2,6,5,1,0,1,0\n",
      "0,1,1,1,1,3,3,2,6,3,9,7,8,8,4,13,7,14,11,15,14,13,5,13,7,14,9,10,5,11,5,3,5,1,1,4,4,1,2,0\n",
      "0,1,1,1,2,3,5,3,6,3,7,10,3,8,12,4,12,9,15,5,17,16,5,10,10,15,7,5,3,11,5,5,6,1,1,1,1,0,2,1\n",
      "0,0,2,1,3,3,2,7,4,4,3,8,12,9,12,9,5,16,8,17,7,11,14,7,13,11,7,12,12,7,8,5,7,2,2,4,1,1,1,0\n",
      "0,0,1,2,4,2,2,3,5,7,10,5,5,12,3,13,4,13,7,15,9,12,18,14,16,12,3,11,3,2,7,4,8,2,2,1,3,0,1,1\n",
      "0,0,1,1,1,5,1,5,2,2,4,10,4,8,14,6,15,6,12,15,15,13,7,17,4,5,11,4,8,7,9,4,5,3,2,5,4,3,2,1\n",
      "0,0,2,2,3,4,6,3,7,6,4,5,8,4,7,7,6,11,12,19,20,18,9,5,4,7,14,8,4,3,7,7,8,3,5,4,1,3,1,0\n",
      "0,0,0,1,4,4,6,3,8,6,4,10,12,3,3,6,8,7,17,16,14,15,17,4,14,13,4,4,12,11,6,9,5,5,2,5,2,1,0,1\n",
      "0,1,1,0,3,2,4,6,8,6,2,3,11,3,14,14,12,8,8,16,13,7,6,9,15,7,6,4,10,8,10,4,2,6,5,5,2,3,2,1\n",
      "0,0,2,3,3,4,5,3,6,7,10,5,10,13,14,3,8,10,9,9,19,15,15,6,8,8,11,5,5,7,3,6,6,4,5,2,2,3,0,0\n",
      "0,1,2,2,2,3,6,6,6,7,6,3,11,12,13,15,15,10,14,11,11,8,6,12,10,5,12,7,7,11,5,8,5,2,5,5,2,0,2,1\n",
      "0,0,2,1,3,5,6,7,5,8,9,3,12,10,12,4,12,9,13,10,10,6,10,11,4,15,13,7,3,4,2,9,7,2,4,2,1,2,1,1\n",
      "0,0,1,2,4,1,5,5,2,3,4,8,8,12,5,15,9,17,7,19,14,18,12,17,14,4,13,13,8,11,5,6,6,2,3,5,2,1,1,1\n",
      "0,0,0,3,1,3,6,4,3,4,8,3,4,8,3,11,5,7,10,5,15,9,16,17,16,3,8,9,8,3,3,9,5,1,6,5,4,2,2,0\n",
      "0,1,2,2,2,5,5,1,4,6,3,6,5,9,6,7,4,7,16,7,16,13,9,16,12,6,7,9,10,3,6,4,5,4,6,3,4,3,2,1\n",
      "0,1,1,2,3,1,5,1,2,2,5,7,6,6,5,10,6,7,17,13,15,16,17,14,4,4,10,10,10,11,9,9,5,4,4,2,1,0,1,0\n",
      "0,1,0,3,2,4,1,1,5,9,10,7,12,10,9,15,12,13,13,6,19,9,10,6,13,5,13,6,7,2,5,5,2,1,1,1,1,3,0,1\n",
      "0,1,1,3,1,1,5,5,3,7,2,2,3,12,4,6,8,15,16,16,15,4,14,5,13,10,7,10,6,3,2,3,6,3,3,5,4,3,2,1\n",
      "0,0,0,2,2,1,3,4,5,5,6,5,5,12,13,5,7,5,11,15,18,7,9,10,14,12,11,9,10,3,2,9,6,2,2,5,3,0,0,1\n",
      "0,0,1,3,3,1,2,1,8,9,2,8,10,3,8,6,10,13,11,17,19,6,4,11,6,12,7,5,5,4,4,8,2,6,6,4,2,2,0,0\n",
      "0,1,1,3,4,5,2,1,3,7,9,6,10,5,8,15,11,12,15,6,12,16,6,4,14,3,12,9,6,11,5,8,5,5,6,1,2,1,2,0\n",
      "0,0,1,3,1,4,3,6,7,8,5,7,11,3,6,11,6,10,6,19,18,14,6,10,7,9,8,5,8,3,10,2,5,1,5,4,2,1,0,1\n",
      "0,1,1,3,3,4,4,6,3,4,9,9,7,6,8,15,12,15,6,11,6,18,5,14,15,12,9,8,3,6,10,6,8,7,2,5,4,3,1,1\n",
      "0,1,2,2,4,3,1,4,8,9,5,10,10,3,4,6,7,11,16,6,14,9,11,10,10,7,10,8,8,4,5,8,4,4,5,2,4,1,1,0\n",
      "0,0,2,3,4,5,4,6,2,9,7,4,9,10,8,11,16,12,15,17,19,10,18,13,15,11,8,4,7,11,6,7,6,5,1,3,1,0,0,0\n",
      "0,1,1,3,1,4,6,2,8,2,10,3,11,9,13,15,5,15,6,10,10,5,14,15,12,7,4,5,11,4,6,9,5,6,1,1,2,1,2,1\n",
      "0,0,1,3,2,5,1,2,7,6,6,3,12,9,4,14,4,6,12,9,12,7,11,7,16,8,13,6,7,6,10,7,6,3,1,5,4,3,0,0\n",
      "0,0,1,2,3,4,5,7,5,4,10,5,12,12,5,4,7,9,18,16,16,10,15,15,10,4,3,7,5,9,4,6,2,4,1,4,2,2,2,1\n",
      "0,1,2,1,1,3,5,3,6,3,10,10,11,10,13,10,13,6,6,14,5,4,5,5,9,4,12,7,7,4,7,9,3,3,6,3,4,1,2,0\n",
      "0,1,2,2,3,5,2,4,5,6,8,3,5,4,3,15,15,12,16,7,20,15,12,8,9,6,12,5,8,3,8,5,4,1,3,2,1,3,1,0\n",
      "0,0,0,2,4,4,5,3,3,3,10,4,4,4,14,11,15,13,10,14,11,17,9,11,11,7,10,12,10,10,10,8,7,5,2,2,4,1,2,1\n",
      "0,0,2,1,1,4,4,7,2,9,4,10,12,7,6,6,11,12,9,15,15,6,6,13,5,12,9,6,4,7,7,6,5,4,1,4,2,2,2,1\n",
      "0,1,2,1,1,4,5,4,4,5,9,7,10,3,13,13,8,9,17,16,16,15,12,13,5,12,10,9,11,9,4,5,5,2,2,5,1,0,0,1\n",
      "0,0,1,3,2,3,6,4,5,7,2,4,11,11,3,8,8,16,5,13,16,5,8,8,6,9,10,10,9,3,3,5,3,5,4,5,3,3,0,1\n",
      "0,1,1,2,2,5,1,7,4,2,5,5,4,6,6,4,16,11,14,16,14,14,8,17,4,14,13,7,6,3,7,7,5,6,3,4,2,2,1,1\n",
      "0,1,1,1,4,1,6,4,6,3,6,5,6,4,14,13,13,9,12,19,9,10,15,10,9,10,10,7,5,6,8,6,6,4,3,5,2,1,1,1\n",
      "0,0,0,1,4,5,6,3,8,7,9,10,8,6,5,12,15,5,10,5,8,13,18,17,14,9,13,4,10,11,10,8,8,6,5,5,2,0,2,0\n",
      "0,0,1,0,3,2,5,4,8,2,9,3,3,10,12,9,14,11,13,8,6,18,11,9,13,11,8,5,5,2,8,5,3,5,4,1,3,1,1,0\n",
      "\n"
     ]
    }
   ],
   "source": [
    "print(data.read())"
   ]
  },
  {
   "cell_type": "code",
   "execution_count": 10,
   "id": "768b7399-3451-450d-82b3-15bffa02e723",
   "metadata": {},
   "outputs": [],
   "source": [
    "data.close()"
   ]
  },
  {
   "cell_type": "code",
   "execution_count": null,
   "id": "056c158b-9b8e-466f-b7c1-db482e848694",
   "metadata": {},
   "outputs": [],
   "source": []
  }
 ],
 "metadata": {
  "kernelspec": {
   "display_name": "Python 3 (ipykernel)",
   "language": "python",
   "name": "python3"
  },
  "language_info": {
   "codemirror_mode": {
    "name": "ipython",
    "version": 3
   },
   "file_extension": ".py",
   "mimetype": "text/x-python",
   "name": "python",
   "nbconvert_exporter": "python",
   "pygments_lexer": "ipython3",
   "version": "3.9.13"
  }
 },
 "nbformat": 4,
 "nbformat_minor": 5
}
